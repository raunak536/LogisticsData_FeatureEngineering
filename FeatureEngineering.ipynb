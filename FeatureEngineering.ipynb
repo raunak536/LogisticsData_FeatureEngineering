{
 "cells": [
  {
   "cell_type": "code",
   "execution_count": 1,
   "metadata": {},
   "outputs": [],
   "source": [
    "import pandas as pd\n",
    "import numpy as np\n",
    "import matplotlib.pyplot as plt\n",
    "import seaborn as sns\n",
    "import matplotlib.colors as mcolors\n",
    "COLORS = list(mcolors.TABLEAU_COLORS.values())\n",
    "from scipy.stats import chi2_contingency, f_oneway, ttest_ind, levene\n",
    "import sys,os,re\n",
    "from sklearn.preprocessing import OneHotEncoder, MinMaxScaler\n",
    "\n",
    "pd.options.display.max_columns = None\n",
    "pd.options.display.max_rows = 50"
   ]
  },
  {
   "cell_type": "markdown",
   "metadata": {},
   "source": [
    "---"
   ]
  },
  {
   "cell_type": "markdown",
   "metadata": {},
   "source": [
    "# Problem Statement :\n",
    "One of India's largest logistics company needs to understand and process the data coming out of data engineering pipelines. \n",
    "We need to clean, sanitize and manipulate data to get useful features out of raw fields.\n",
    "\n",
    "# Insights :\n",
    "- start_scan_to_end_scan has multiple peaks at ~0, 2000, 3000 implying that there are 3 major routes taken by the logisitcs the company\n",
    "- actual_distance_to_destination also looks like the overlap of 3 poisson distributions (supporting above claim)\n",
    "- actual_time, osrm_time and osrm_distance shows poisson like distribution\n",
    "- segment_actual_time, segment_osrm_time and segment_osrm_distance seem to be possion distributed as well with an even lower lambda\n",
    "- FTL has much higher actual_distance_to_destination and start_scan_to_end_scan than Carting\n",
    "- Mumbai to Bhiwandi is the busiest corridor followed by city-within trips in bengaluru\n",
    "- The most busiest source cities are Bengaluru, Gurgaon (~4.5%)\n",
    "- The most busiest source states are Maharashtra, Karnataka (~13%)\n",
    "- The most busiest destination cities are Mumbai, Bengaluru (~4.5%)\n",
    "- The most busiest destination states are Karnataka, Maharashtra (~13%)\n",
    "- t-test giving HIGH p-value means start_scan_to_end_scan and od_time_diff ARE NOT significantly different\n",
    "- Welchs t-test giving LOW p-value means actual_time and osrm_time ARE significantly different\n",
    "- t-test giving HIGH p-value means actual_time and segment_actual_time ARE NOT significantly different\n",
    "- Welchs t-test giving LOW p-value means osrm_distance and segment_osrm_distance ARE significantly different\n",
    "- Welchs t-test giving LOW p-value means osrm_time and segment_osrm_time ARE significantly different \n",
    "\n",
    "# Recommendations : \n",
    "- Most of the companies trips seems to be concentrated around few cities like Gurgaon, Mumbai and Bengaluru. Based on this, I would recommend the logistics company to expand its network to other parts of the country as well.\n",
    "- The actual time and OSRM time shows significance difference. Based on this I would suggest the company to look closley at the open source time calculator as it might be buggy or not be taking some real life considerations into account. Having an accurate model would help the company in managing its resources better and also would give its customers a more accurate expected time for delivery."
   ]
  },
  {
   "cell_type": "markdown",
   "metadata": {},
   "source": [
    "# Loading Data"
   ]
  },
  {
   "cell_type": "code",
   "execution_count": 2,
   "metadata": {},
   "outputs": [],
   "source": [
    "df = pd.read_csv('logistics_data.csv')"
   ]
  },
  {
   "cell_type": "code",
   "execution_count": 3,
   "metadata": {},
   "outputs": [
    {
     "data": {
      "text/plain": [
       "(144867, 24)"
      ]
     },
     "execution_count": 3,
     "metadata": {},
     "output_type": "execute_result"
    }
   ],
   "source": [
    "df.shape"
   ]
  },
  {
   "cell_type": "code",
   "execution_count": 4,
   "metadata": {},
   "outputs": [
    {
     "data": {
      "text/html": [
       "<div>\n",
       "<style scoped>\n",
       "    .dataframe tbody tr th:only-of-type {\n",
       "        vertical-align: middle;\n",
       "    }\n",
       "\n",
       "    .dataframe tbody tr th {\n",
       "        vertical-align: top;\n",
       "    }\n",
       "\n",
       "    .dataframe thead th {\n",
       "        text-align: right;\n",
       "    }\n",
       "</style>\n",
       "<table border=\"1\" class=\"dataframe\">\n",
       "  <thead>\n",
       "    <tr style=\"text-align: right;\">\n",
       "      <th></th>\n",
       "      <th>data</th>\n",
       "      <th>trip_creation_time</th>\n",
       "      <th>route_schedule_uuid</th>\n",
       "      <th>route_type</th>\n",
       "      <th>trip_uuid</th>\n",
       "      <th>source_center</th>\n",
       "      <th>source_name</th>\n",
       "      <th>destination_center</th>\n",
       "      <th>destination_name</th>\n",
       "      <th>od_start_time</th>\n",
       "      <th>od_end_time</th>\n",
       "      <th>start_scan_to_end_scan</th>\n",
       "      <th>is_cutoff</th>\n",
       "      <th>cutoff_factor</th>\n",
       "      <th>cutoff_timestamp</th>\n",
       "      <th>actual_distance_to_destination</th>\n",
       "      <th>actual_time</th>\n",
       "      <th>osrm_time</th>\n",
       "      <th>osrm_distance</th>\n",
       "      <th>factor</th>\n",
       "      <th>segment_actual_time</th>\n",
       "      <th>segment_osrm_time</th>\n",
       "      <th>segment_osrm_distance</th>\n",
       "      <th>segment_factor</th>\n",
       "    </tr>\n",
       "  </thead>\n",
       "  <tbody>\n",
       "    <tr>\n",
       "      <th>0</th>\n",
       "      <td>training</td>\n",
       "      <td>2018-09-20 02:35:36.476840</td>\n",
       "      <td>thanos::sroute:eb7bfc78-b351-4c0e-a951-fa3d5c3...</td>\n",
       "      <td>Carting</td>\n",
       "      <td>trip-153741093647649320</td>\n",
       "      <td>IND388121AAA</td>\n",
       "      <td>Anand_VUNagar_DC (Gujarat)</td>\n",
       "      <td>IND388620AAB</td>\n",
       "      <td>Khambhat_MotvdDPP_D (Gujarat)</td>\n",
       "      <td>2018-09-20 03:21:32.418600</td>\n",
       "      <td>2018-09-20 04:47:45.236797</td>\n",
       "      <td>86.0</td>\n",
       "      <td>True</td>\n",
       "      <td>9</td>\n",
       "      <td>2018-09-20 04:27:55</td>\n",
       "      <td>10.435660</td>\n",
       "      <td>14.0</td>\n",
       "      <td>11.0</td>\n",
       "      <td>11.9653</td>\n",
       "      <td>1.272727</td>\n",
       "      <td>14.0</td>\n",
       "      <td>11.0</td>\n",
       "      <td>11.9653</td>\n",
       "      <td>1.272727</td>\n",
       "    </tr>\n",
       "    <tr>\n",
       "      <th>1</th>\n",
       "      <td>training</td>\n",
       "      <td>2018-09-20 02:35:36.476840</td>\n",
       "      <td>thanos::sroute:eb7bfc78-b351-4c0e-a951-fa3d5c3...</td>\n",
       "      <td>Carting</td>\n",
       "      <td>trip-153741093647649320</td>\n",
       "      <td>IND388121AAA</td>\n",
       "      <td>Anand_VUNagar_DC (Gujarat)</td>\n",
       "      <td>IND388620AAB</td>\n",
       "      <td>Khambhat_MotvdDPP_D (Gujarat)</td>\n",
       "      <td>2018-09-20 03:21:32.418600</td>\n",
       "      <td>2018-09-20 04:47:45.236797</td>\n",
       "      <td>86.0</td>\n",
       "      <td>True</td>\n",
       "      <td>18</td>\n",
       "      <td>2018-09-20 04:17:55</td>\n",
       "      <td>18.936842</td>\n",
       "      <td>24.0</td>\n",
       "      <td>20.0</td>\n",
       "      <td>21.7243</td>\n",
       "      <td>1.200000</td>\n",
       "      <td>10.0</td>\n",
       "      <td>9.0</td>\n",
       "      <td>9.7590</td>\n",
       "      <td>1.111111</td>\n",
       "    </tr>\n",
       "    <tr>\n",
       "      <th>2</th>\n",
       "      <td>training</td>\n",
       "      <td>2018-09-20 02:35:36.476840</td>\n",
       "      <td>thanos::sroute:eb7bfc78-b351-4c0e-a951-fa3d5c3...</td>\n",
       "      <td>Carting</td>\n",
       "      <td>trip-153741093647649320</td>\n",
       "      <td>IND388121AAA</td>\n",
       "      <td>Anand_VUNagar_DC (Gujarat)</td>\n",
       "      <td>IND388620AAB</td>\n",
       "      <td>Khambhat_MotvdDPP_D (Gujarat)</td>\n",
       "      <td>2018-09-20 03:21:32.418600</td>\n",
       "      <td>2018-09-20 04:47:45.236797</td>\n",
       "      <td>86.0</td>\n",
       "      <td>True</td>\n",
       "      <td>27</td>\n",
       "      <td>2018-09-20 04:01:19.505586</td>\n",
       "      <td>27.637279</td>\n",
       "      <td>40.0</td>\n",
       "      <td>28.0</td>\n",
       "      <td>32.5395</td>\n",
       "      <td>1.428571</td>\n",
       "      <td>16.0</td>\n",
       "      <td>7.0</td>\n",
       "      <td>10.8152</td>\n",
       "      <td>2.285714</td>\n",
       "    </tr>\n",
       "    <tr>\n",
       "      <th>3</th>\n",
       "      <td>training</td>\n",
       "      <td>2018-09-20 02:35:36.476840</td>\n",
       "      <td>thanos::sroute:eb7bfc78-b351-4c0e-a951-fa3d5c3...</td>\n",
       "      <td>Carting</td>\n",
       "      <td>trip-153741093647649320</td>\n",
       "      <td>IND388121AAA</td>\n",
       "      <td>Anand_VUNagar_DC (Gujarat)</td>\n",
       "      <td>IND388620AAB</td>\n",
       "      <td>Khambhat_MotvdDPP_D (Gujarat)</td>\n",
       "      <td>2018-09-20 03:21:32.418600</td>\n",
       "      <td>2018-09-20 04:47:45.236797</td>\n",
       "      <td>86.0</td>\n",
       "      <td>True</td>\n",
       "      <td>36</td>\n",
       "      <td>2018-09-20 03:39:57</td>\n",
       "      <td>36.118028</td>\n",
       "      <td>62.0</td>\n",
       "      <td>40.0</td>\n",
       "      <td>45.5620</td>\n",
       "      <td>1.550000</td>\n",
       "      <td>21.0</td>\n",
       "      <td>12.0</td>\n",
       "      <td>13.0224</td>\n",
       "      <td>1.750000</td>\n",
       "    </tr>\n",
       "    <tr>\n",
       "      <th>4</th>\n",
       "      <td>training</td>\n",
       "      <td>2018-09-20 02:35:36.476840</td>\n",
       "      <td>thanos::sroute:eb7bfc78-b351-4c0e-a951-fa3d5c3...</td>\n",
       "      <td>Carting</td>\n",
       "      <td>trip-153741093647649320</td>\n",
       "      <td>IND388121AAA</td>\n",
       "      <td>Anand_VUNagar_DC (Gujarat)</td>\n",
       "      <td>IND388620AAB</td>\n",
       "      <td>Khambhat_MotvdDPP_D (Gujarat)</td>\n",
       "      <td>2018-09-20 03:21:32.418600</td>\n",
       "      <td>2018-09-20 04:47:45.236797</td>\n",
       "      <td>86.0</td>\n",
       "      <td>False</td>\n",
       "      <td>39</td>\n",
       "      <td>2018-09-20 03:33:55</td>\n",
       "      <td>39.386040</td>\n",
       "      <td>68.0</td>\n",
       "      <td>44.0</td>\n",
       "      <td>54.2181</td>\n",
       "      <td>1.545455</td>\n",
       "      <td>6.0</td>\n",
       "      <td>5.0</td>\n",
       "      <td>3.9153</td>\n",
       "      <td>1.200000</td>\n",
       "    </tr>\n",
       "  </tbody>\n",
       "</table>\n",
       "</div>"
      ],
      "text/plain": [
       "       data          trip_creation_time  \\\n",
       "0  training  2018-09-20 02:35:36.476840   \n",
       "1  training  2018-09-20 02:35:36.476840   \n",
       "2  training  2018-09-20 02:35:36.476840   \n",
       "3  training  2018-09-20 02:35:36.476840   \n",
       "4  training  2018-09-20 02:35:36.476840   \n",
       "\n",
       "                                 route_schedule_uuid route_type  \\\n",
       "0  thanos::sroute:eb7bfc78-b351-4c0e-a951-fa3d5c3...    Carting   \n",
       "1  thanos::sroute:eb7bfc78-b351-4c0e-a951-fa3d5c3...    Carting   \n",
       "2  thanos::sroute:eb7bfc78-b351-4c0e-a951-fa3d5c3...    Carting   \n",
       "3  thanos::sroute:eb7bfc78-b351-4c0e-a951-fa3d5c3...    Carting   \n",
       "4  thanos::sroute:eb7bfc78-b351-4c0e-a951-fa3d5c3...    Carting   \n",
       "\n",
       "                 trip_uuid source_center                 source_name  \\\n",
       "0  trip-153741093647649320  IND388121AAA  Anand_VUNagar_DC (Gujarat)   \n",
       "1  trip-153741093647649320  IND388121AAA  Anand_VUNagar_DC (Gujarat)   \n",
       "2  trip-153741093647649320  IND388121AAA  Anand_VUNagar_DC (Gujarat)   \n",
       "3  trip-153741093647649320  IND388121AAA  Anand_VUNagar_DC (Gujarat)   \n",
       "4  trip-153741093647649320  IND388121AAA  Anand_VUNagar_DC (Gujarat)   \n",
       "\n",
       "  destination_center               destination_name  \\\n",
       "0       IND388620AAB  Khambhat_MotvdDPP_D (Gujarat)   \n",
       "1       IND388620AAB  Khambhat_MotvdDPP_D (Gujarat)   \n",
       "2       IND388620AAB  Khambhat_MotvdDPP_D (Gujarat)   \n",
       "3       IND388620AAB  Khambhat_MotvdDPP_D (Gujarat)   \n",
       "4       IND388620AAB  Khambhat_MotvdDPP_D (Gujarat)   \n",
       "\n",
       "                od_start_time                 od_end_time  \\\n",
       "0  2018-09-20 03:21:32.418600  2018-09-20 04:47:45.236797   \n",
       "1  2018-09-20 03:21:32.418600  2018-09-20 04:47:45.236797   \n",
       "2  2018-09-20 03:21:32.418600  2018-09-20 04:47:45.236797   \n",
       "3  2018-09-20 03:21:32.418600  2018-09-20 04:47:45.236797   \n",
       "4  2018-09-20 03:21:32.418600  2018-09-20 04:47:45.236797   \n",
       "\n",
       "   start_scan_to_end_scan  is_cutoff  cutoff_factor  \\\n",
       "0                    86.0       True              9   \n",
       "1                    86.0       True             18   \n",
       "2                    86.0       True             27   \n",
       "3                    86.0       True             36   \n",
       "4                    86.0      False             39   \n",
       "\n",
       "             cutoff_timestamp  actual_distance_to_destination  actual_time  \\\n",
       "0         2018-09-20 04:27:55                       10.435660         14.0   \n",
       "1         2018-09-20 04:17:55                       18.936842         24.0   \n",
       "2  2018-09-20 04:01:19.505586                       27.637279         40.0   \n",
       "3         2018-09-20 03:39:57                       36.118028         62.0   \n",
       "4         2018-09-20 03:33:55                       39.386040         68.0   \n",
       "\n",
       "   osrm_time  osrm_distance    factor  segment_actual_time  segment_osrm_time  \\\n",
       "0       11.0        11.9653  1.272727                 14.0               11.0   \n",
       "1       20.0        21.7243  1.200000                 10.0                9.0   \n",
       "2       28.0        32.5395  1.428571                 16.0                7.0   \n",
       "3       40.0        45.5620  1.550000                 21.0               12.0   \n",
       "4       44.0        54.2181  1.545455                  6.0                5.0   \n",
       "\n",
       "   segment_osrm_distance  segment_factor  \n",
       "0                11.9653        1.272727  \n",
       "1                 9.7590        1.111111  \n",
       "2                10.8152        2.285714  \n",
       "3                13.0224        1.750000  \n",
       "4                 3.9153        1.200000  "
      ]
     },
     "execution_count": 4,
     "metadata": {},
     "output_type": "execute_result"
    }
   ],
   "source": [
    "df.head()"
   ]
  },
  {
   "cell_type": "markdown",
   "metadata": {},
   "source": [
    "## Non Visual EDA"
   ]
  },
  {
   "cell_type": "code",
   "execution_count": 5,
   "metadata": {},
   "outputs": [
    {
     "name": "stdout",
     "output_type": "stream",
     "text": [
      "<class 'pandas.core.frame.DataFrame'>\n",
      "RangeIndex: 144867 entries, 0 to 144866\n",
      "Data columns (total 24 columns):\n",
      " #   Column                          Non-Null Count   Dtype  \n",
      "---  ------                          --------------   -----  \n",
      " 0   data                            144867 non-null  object \n",
      " 1   trip_creation_time              144867 non-null  object \n",
      " 2   route_schedule_uuid             144867 non-null  object \n",
      " 3   route_type                      144867 non-null  object \n",
      " 4   trip_uuid                       144867 non-null  object \n",
      " 5   source_center                   144867 non-null  object \n",
      " 6   source_name                     144574 non-null  object \n",
      " 7   destination_center              144867 non-null  object \n",
      " 8   destination_name                144606 non-null  object \n",
      " 9   od_start_time                   144867 non-null  object \n",
      " 10  od_end_time                     144867 non-null  object \n",
      " 11  start_scan_to_end_scan          144867 non-null  float64\n",
      " 12  is_cutoff                       144867 non-null  bool   \n",
      " 13  cutoff_factor                   144867 non-null  int64  \n",
      " 14  cutoff_timestamp                144867 non-null  object \n",
      " 15  actual_distance_to_destination  144867 non-null  float64\n",
      " 16  actual_time                     144867 non-null  float64\n",
      " 17  osrm_time                       144867 non-null  float64\n",
      " 18  osrm_distance                   144867 non-null  float64\n",
      " 19  factor                          144867 non-null  float64\n",
      " 20  segment_actual_time             144867 non-null  float64\n",
      " 21  segment_osrm_time               144867 non-null  float64\n",
      " 22  segment_osrm_distance           144867 non-null  float64\n",
      " 23  segment_factor                  144867 non-null  float64\n",
      "dtypes: bool(1), float64(10), int64(1), object(12)\n",
      "memory usage: 25.6+ MB\n"
     ]
    }
   ],
   "source": [
    "df.info()"
   ]
  },
  {
   "cell_type": "code",
   "execution_count": 6,
   "metadata": {},
   "outputs": [],
   "source": [
    "#Converting to datetime\n",
    "for c in ['trip_creation_time', 'od_start_time', 'od_end_time', 'cutoff_timestamp']:\n",
    "    df[c] = pd.to_datetime(df[c])"
   ]
  },
  {
   "cell_type": "code",
   "execution_count": 7,
   "metadata": {},
   "outputs": [
    {
     "data": {
      "text/plain": [
       "source_name              293\n",
       "destination_name         261\n",
       "data                       0\n",
       "cutoff_factor              0\n",
       "segment_osrm_distance      0\n",
       "dtype: int64"
      ]
     },
     "execution_count": 7,
     "metadata": {},
     "output_type": "execute_result"
    }
   ],
   "source": [
    "#Null value treatment\n",
    "df.isna().sum().sort_values(ascending=False).head()"
   ]
  },
  {
   "cell_type": "code",
   "execution_count": 7,
   "metadata": {},
   "outputs": [],
   "source": [
    "# Since there are only ~300 rows with null we can drop them\n",
    "df = df.dropna().reset_index(drop=True)"
   ]
  },
  {
   "cell_type": "code",
   "execution_count": 8,
   "metadata": {},
   "outputs": [
    {
     "data": {
      "text/html": [
       "<div>\n",
       "<style scoped>\n",
       "    .dataframe tbody tr th:only-of-type {\n",
       "        vertical-align: middle;\n",
       "    }\n",
       "\n",
       "    .dataframe tbody tr th {\n",
       "        vertical-align: top;\n",
       "    }\n",
       "\n",
       "    .dataframe thead th {\n",
       "        text-align: right;\n",
       "    }\n",
       "</style>\n",
       "<table border=\"1\" class=\"dataframe\">\n",
       "  <thead>\n",
       "    <tr style=\"text-align: right;\">\n",
       "      <th></th>\n",
       "      <th>start_scan_to_end_scan</th>\n",
       "      <th>cutoff_factor</th>\n",
       "      <th>actual_distance_to_destination</th>\n",
       "      <th>actual_time</th>\n",
       "      <th>osrm_time</th>\n",
       "      <th>osrm_distance</th>\n",
       "      <th>factor</th>\n",
       "      <th>segment_actual_time</th>\n",
       "      <th>segment_osrm_time</th>\n",
       "      <th>segment_osrm_distance</th>\n",
       "      <th>segment_factor</th>\n",
       "    </tr>\n",
       "  </thead>\n",
       "  <tbody>\n",
       "    <tr>\n",
       "      <th>count</th>\n",
       "      <td>144316.000000</td>\n",
       "      <td>144316.000000</td>\n",
       "      <td>144316.000000</td>\n",
       "      <td>144316.000000</td>\n",
       "      <td>144316.000000</td>\n",
       "      <td>144316.000000</td>\n",
       "      <td>144316.000000</td>\n",
       "      <td>144316.000000</td>\n",
       "      <td>144316.000000</td>\n",
       "      <td>144316.000000</td>\n",
       "      <td>144316.000000</td>\n",
       "    </tr>\n",
       "    <tr>\n",
       "      <th>mean</th>\n",
       "      <td>963.697698</td>\n",
       "      <td>233.561345</td>\n",
       "      <td>234.708498</td>\n",
       "      <td>417.996237</td>\n",
       "      <td>214.437055</td>\n",
       "      <td>285.549785</td>\n",
       "      <td>2.120178</td>\n",
       "      <td>36.175379</td>\n",
       "      <td>18.495697</td>\n",
       "      <td>22.818993</td>\n",
       "      <td>2.218707</td>\n",
       "    </tr>\n",
       "    <tr>\n",
       "      <th>std</th>\n",
       "      <td>1038.082976</td>\n",
       "      <td>345.245823</td>\n",
       "      <td>345.480571</td>\n",
       "      <td>598.940065</td>\n",
       "      <td>308.448543</td>\n",
       "      <td>421.717826</td>\n",
       "      <td>1.717065</td>\n",
       "      <td>53.524298</td>\n",
       "      <td>14.774008</td>\n",
       "      <td>17.866367</td>\n",
       "      <td>4.854804</td>\n",
       "    </tr>\n",
       "    <tr>\n",
       "      <th>min</th>\n",
       "      <td>20.000000</td>\n",
       "      <td>9.000000</td>\n",
       "      <td>9.000045</td>\n",
       "      <td>9.000000</td>\n",
       "      <td>6.000000</td>\n",
       "      <td>9.008200</td>\n",
       "      <td>0.144000</td>\n",
       "      <td>-244.000000</td>\n",
       "      <td>0.000000</td>\n",
       "      <td>0.000000</td>\n",
       "      <td>-23.444444</td>\n",
       "    </tr>\n",
       "    <tr>\n",
       "      <th>25%</th>\n",
       "      <td>161.000000</td>\n",
       "      <td>22.000000</td>\n",
       "      <td>23.352027</td>\n",
       "      <td>51.000000</td>\n",
       "      <td>27.000000</td>\n",
       "      <td>29.896250</td>\n",
       "      <td>1.604545</td>\n",
       "      <td>20.000000</td>\n",
       "      <td>11.000000</td>\n",
       "      <td>12.053975</td>\n",
       "      <td>1.347826</td>\n",
       "    </tr>\n",
       "    <tr>\n",
       "      <th>50%</th>\n",
       "      <td>451.000000</td>\n",
       "      <td>66.000000</td>\n",
       "      <td>66.135322</td>\n",
       "      <td>132.000000</td>\n",
       "      <td>64.000000</td>\n",
       "      <td>78.624400</td>\n",
       "      <td>1.857143</td>\n",
       "      <td>28.000000</td>\n",
       "      <td>17.000000</td>\n",
       "      <td>23.508300</td>\n",
       "      <td>1.684211</td>\n",
       "    </tr>\n",
       "    <tr>\n",
       "      <th>75%</th>\n",
       "      <td>1645.000000</td>\n",
       "      <td>286.000000</td>\n",
       "      <td>286.919294</td>\n",
       "      <td>516.000000</td>\n",
       "      <td>259.000000</td>\n",
       "      <td>346.305400</td>\n",
       "      <td>2.212280</td>\n",
       "      <td>40.000000</td>\n",
       "      <td>22.000000</td>\n",
       "      <td>27.813325</td>\n",
       "      <td>2.250000</td>\n",
       "    </tr>\n",
       "    <tr>\n",
       "      <th>max</th>\n",
       "      <td>7898.000000</td>\n",
       "      <td>1927.000000</td>\n",
       "      <td>1927.447705</td>\n",
       "      <td>4532.000000</td>\n",
       "      <td>1686.000000</td>\n",
       "      <td>2326.199100</td>\n",
       "      <td>77.387097</td>\n",
       "      <td>3051.000000</td>\n",
       "      <td>1611.000000</td>\n",
       "      <td>2191.403700</td>\n",
       "      <td>574.250000</td>\n",
       "    </tr>\n",
       "  </tbody>\n",
       "</table>\n",
       "</div>"
      ],
      "text/plain": [
       "       start_scan_to_end_scan  cutoff_factor  actual_distance_to_destination  \\\n",
       "count           144316.000000  144316.000000                   144316.000000   \n",
       "mean               963.697698     233.561345                      234.708498   \n",
       "std               1038.082976     345.245823                      345.480571   \n",
       "min                 20.000000       9.000000                        9.000045   \n",
       "25%                161.000000      22.000000                       23.352027   \n",
       "50%                451.000000      66.000000                       66.135322   \n",
       "75%               1645.000000     286.000000                      286.919294   \n",
       "max               7898.000000    1927.000000                     1927.447705   \n",
       "\n",
       "         actual_time      osrm_time  osrm_distance         factor  \\\n",
       "count  144316.000000  144316.000000  144316.000000  144316.000000   \n",
       "mean      417.996237     214.437055     285.549785       2.120178   \n",
       "std       598.940065     308.448543     421.717826       1.717065   \n",
       "min         9.000000       6.000000       9.008200       0.144000   \n",
       "25%        51.000000      27.000000      29.896250       1.604545   \n",
       "50%       132.000000      64.000000      78.624400       1.857143   \n",
       "75%       516.000000     259.000000     346.305400       2.212280   \n",
       "max      4532.000000    1686.000000    2326.199100      77.387097   \n",
       "\n",
       "       segment_actual_time  segment_osrm_time  segment_osrm_distance  \\\n",
       "count        144316.000000      144316.000000          144316.000000   \n",
       "mean             36.175379          18.495697              22.818993   \n",
       "std              53.524298          14.774008              17.866367   \n",
       "min            -244.000000           0.000000               0.000000   \n",
       "25%              20.000000          11.000000              12.053975   \n",
       "50%              28.000000          17.000000              23.508300   \n",
       "75%              40.000000          22.000000              27.813325   \n",
       "max            3051.000000        1611.000000            2191.403700   \n",
       "\n",
       "       segment_factor  \n",
       "count   144316.000000  \n",
       "mean         2.218707  \n",
       "std          4.854804  \n",
       "min        -23.444444  \n",
       "25%          1.347826  \n",
       "50%          1.684211  \n",
       "75%          2.250000  \n",
       "max        574.250000  "
      ]
     },
     "execution_count": 8,
     "metadata": {},
     "output_type": "execute_result"
    }
   ],
   "source": [
    "df.describe()"
   ]
  },
  {
   "cell_type": "code",
   "execution_count": 9,
   "metadata": {},
   "outputs": [
    {
     "data": {
      "text/html": [
       "<div>\n",
       "<style scoped>\n",
       "    .dataframe tbody tr th:only-of-type {\n",
       "        vertical-align: middle;\n",
       "    }\n",
       "\n",
       "    .dataframe tbody tr th {\n",
       "        vertical-align: top;\n",
       "    }\n",
       "\n",
       "    .dataframe thead th {\n",
       "        text-align: right;\n",
       "    }\n",
       "</style>\n",
       "<table border=\"1\" class=\"dataframe\">\n",
       "  <thead>\n",
       "    <tr style=\"text-align: right;\">\n",
       "      <th></th>\n",
       "      <th>data</th>\n",
       "      <th>route_schedule_uuid</th>\n",
       "      <th>route_type</th>\n",
       "      <th>trip_uuid</th>\n",
       "      <th>source_center</th>\n",
       "      <th>source_name</th>\n",
       "      <th>destination_center</th>\n",
       "      <th>destination_name</th>\n",
       "    </tr>\n",
       "  </thead>\n",
       "  <tbody>\n",
       "    <tr>\n",
       "      <th>count</th>\n",
       "      <td>144316</td>\n",
       "      <td>144316</td>\n",
       "      <td>144316</td>\n",
       "      <td>144316</td>\n",
       "      <td>144316</td>\n",
       "      <td>144316</td>\n",
       "      <td>144316</td>\n",
       "      <td>144316</td>\n",
       "    </tr>\n",
       "    <tr>\n",
       "      <th>unique</th>\n",
       "      <td>2</td>\n",
       "      <td>1497</td>\n",
       "      <td>2</td>\n",
       "      <td>14787</td>\n",
       "      <td>1496</td>\n",
       "      <td>1496</td>\n",
       "      <td>1466</td>\n",
       "      <td>1466</td>\n",
       "    </tr>\n",
       "    <tr>\n",
       "      <th>top</th>\n",
       "      <td>training</td>\n",
       "      <td>thanos::sroute:4029a8a2-6c74-4b7e-a6d8-f9e069f...</td>\n",
       "      <td>FTL</td>\n",
       "      <td>trip-153837029526866991</td>\n",
       "      <td>IND000000ACB</td>\n",
       "      <td>Gurgaon_Bilaspur_HB (Haryana)</td>\n",
       "      <td>IND000000ACB</td>\n",
       "      <td>Gurgaon_Bilaspur_HB (Haryana)</td>\n",
       "    </tr>\n",
       "    <tr>\n",
       "      <th>freq</th>\n",
       "      <td>104632</td>\n",
       "      <td>1812</td>\n",
       "      <td>99132</td>\n",
       "      <td>101</td>\n",
       "      <td>23267</td>\n",
       "      <td>23267</td>\n",
       "      <td>15192</td>\n",
       "      <td>15192</td>\n",
       "    </tr>\n",
       "  </tbody>\n",
       "</table>\n",
       "</div>"
      ],
      "text/plain": [
       "            data                                route_schedule_uuid  \\\n",
       "count     144316                                             144316   \n",
       "unique         2                                               1497   \n",
       "top     training  thanos::sroute:4029a8a2-6c74-4b7e-a6d8-f9e069f...   \n",
       "freq      104632                                               1812   \n",
       "\n",
       "       route_type                trip_uuid source_center  \\\n",
       "count      144316                   144316        144316   \n",
       "unique          2                    14787          1496   \n",
       "top           FTL  trip-153837029526866991  IND000000ACB   \n",
       "freq        99132                      101         23267   \n",
       "\n",
       "                          source_name destination_center  \\\n",
       "count                          144316             144316   \n",
       "unique                           1496               1466   \n",
       "top     Gurgaon_Bilaspur_HB (Haryana)       IND000000ACB   \n",
       "freq                            23267              15192   \n",
       "\n",
       "                     destination_name  \n",
       "count                          144316  \n",
       "unique                           1466  \n",
       "top     Gurgaon_Bilaspur_HB (Haryana)  \n",
       "freq                            15192  "
      ]
     },
     "execution_count": 9,
     "metadata": {},
     "output_type": "execute_result"
    }
   ],
   "source": [
    "df.describe(include='O')"
   ]
  },
  {
   "cell_type": "markdown",
   "metadata": {},
   "source": [
    "## Visual EDA"
   ]
  },
  {
   "cell_type": "markdown",
   "metadata": {},
   "source": [
    "### Univariate"
   ]
  },
  {
   "cell_type": "code",
   "execution_count": 13,
   "metadata": {},
   "outputs": [
    {
     "data": {
      "image/png": "[encoded data removed]",
      "text/plain": [
       "<Figure size 1440x1440 with 11 Axes>"
      ]
     },
     "metadata": {
      "needs_background": "light"
     },
     "output_type": "display_data"
    }
   ],
   "source": [
    "plt.rcParams['figure.figsize'] = 20,20\n",
    "plt.rcParams['figure.autolayout'] = True\n",
    "for e, c in enumerate(df.select_dtypes(include=['int','float']).columns):\n",
    "    ax = plt.subplot(4,3,e+1)\n",
    "    sns.histplot(df[c], ax=ax)"
   ]
  },
  {
   "cell_type": "markdown",
   "metadata": {},
   "source": [
    "- start_scan_to_end_scan has multiple peaks at ~0, 2000, 3000 implying that there are 3 major routes taken by the logisitcs the company\n",
    "- actual_distance_to_destination also looks like the overlap of 3 poisson distributions (supporting above claim)\n",
    "- actual_time, osrm_time and osrm_distance shows poisson like distribution\n",
    "- segment_actual_time, segment_osrm_time and segment_osrm_distance seem to be possion distributed as well with an even lower lambda"
   ]
  },
  {
   "cell_type": "code",
   "execution_count": 14,
   "metadata": {},
   "outputs": [
    {
     "data": {
      "image/png": "[encoded data removed]",
      "text/plain": [
       "<Figure size 1440x720 with 4 Axes>"
      ]
     },
     "metadata": {
      "needs_background": "light"
     },
     "output_type": "display_data"
    }
   ],
   "source": [
    "plt.rcParams['figure.figsize'] = 20,10\n",
    "plt.rcParams['figure.autolayout'] = True\n",
    "for e, c in enumerate(['data', 'route_type', 'source_name', 'destination_name']):\n",
    "    ax = plt.subplot(2,2,e+1)\n",
    "    tmp = df[c].value_counts(1) * 100\n",
    "    #show only top 5 categories\n",
    "    if tmp.shape[0] > 5:\n",
    "        tmp = tmp.head()\n",
    "    tmp.index = [i[:8] for i in tmp.index]\n",
    "    sns.barplot(x=tmp.index, y=tmp.values, ax=ax, palette='Set2')\n",
    "    ax.set_ylabel('Percentage %')\n",
    "    ax.set_xlabel(c)"
   ]
  },
  {
   "cell_type": "markdown",
   "metadata": {},
   "source": [
    "Based on above visuals of the non-aggregated data we can say: \n",
    "- Training data ~70% \n",
    "- 65% of the route types are FTL\n",
    "- Gurgaon is the busiest both in terms of source (15%) and destination (10%)"
   ]
  },
  {
   "cell_type": "markdown",
   "metadata": {},
   "source": [
    "### Bivariate"
   ]
  },
  {
   "cell_type": "code",
   "execution_count": 15,
   "metadata": {},
   "outputs": [
    {
     "data": {
      "text/plain": [
       "<AxesSubplot:xlabel='route_type', ylabel='start_scan_to_end_scan'>"
      ]
     },
     "execution_count": 15,
     "metadata": {},
     "output_type": "execute_result"
    },
    {
     "data": {
      "image/png": "[encoded data removed]",
      "text/plain": [
       "<Figure size 1440x576 with 2 Axes>"
      ]
     },
     "metadata": {
      "needs_background": "light"
     },
     "output_type": "display_data"
    }
   ],
   "source": [
    "plt.rcParams['figure.figsize'] = 20,8\n",
    "fig,ax = plt.subplots(1,2)\n",
    "sns.boxplot(x='route_type',y='actual_distance_to_destination',data=df, ax=ax[0])\n",
    "sns.boxplot(x='route_type',y='start_scan_to_end_scan',data=df, ax=ax[1])"
   ]
  },
  {
   "cell_type": "markdown",
   "metadata": {},
   "source": [
    "- FTL has much higher actual_distance_to_destination and start_scan_to_end_scan than Carting"
   ]
  },
  {
   "cell_type": "markdown",
   "metadata": {},
   "source": [
    "# Feature Engineering"
   ]
  },
  {
   "cell_type": "code",
   "execution_count": 16,
   "metadata": {},
   "outputs": [],
   "source": [
    "#Calculating difference between od_end_time & od_start_time in minutes\n",
    "od_time_diff = df['od_end_time'] - df['od_start_time']\n",
    "df['od_time_diff'] = (od_time_diff.dt.days * 86400) + od_time_diff.dt.seconds\n",
    "df['od_time_diff'] = df['od_time_diff']//60"
   ]
  },
  {
   "cell_type": "code",
   "execution_count": 18,
   "metadata": {},
   "outputs": [],
   "source": [
    "#Extracting source and destination city\n",
    "df['source_city'] = df['source_name'].apply(lambda x : re.findall('([a-z]+).*',x.lower())[0]) #regex to catch the first word\n",
    "df['destination_city'] = df['destination_name'].apply(lambda x : re.findall('([a-z]+).*',x.lower())[0])"
   ]
  },
  {
   "cell_type": "code",
   "execution_count": 19,
   "metadata": {},
   "outputs": [],
   "source": [
    "#Extracting source and destination state\n",
    "df['source_state'] = df['source_name'].apply(lambda x : re.findall('.*\\((.*)\\)',x.lower())[0]) #regex to catch the word in round brackets\n",
    "df['destination_state'] = df['destination_name'].apply(lambda x : re.findall('.*\\((.*)\\)',x.lower())[0])"
   ]
  },
  {
   "cell_type": "code",
   "execution_count": 20,
   "metadata": {},
   "outputs": [],
   "source": [
    "#Extracting trip year, month and day\n",
    "df['trip_creation_year'] = df['trip_creation_time'].dt.year\n",
    "df['trip_creation_month'] = df['trip_creation_time'].dt.month\n",
    "df['trip_creation_day'] = df['trip_creation_time'].dt.day"
   ]
  },
  {
   "cell_type": "code",
   "execution_count": 21,
   "metadata": {},
   "outputs": [
    {
     "data": {
      "text/html": [
       "<div>\n",
       "<style scoped>\n",
       "    .dataframe tbody tr th:only-of-type {\n",
       "        vertical-align: middle;\n",
       "    }\n",
       "\n",
       "    .dataframe tbody tr th {\n",
       "        vertical-align: top;\n",
       "    }\n",
       "\n",
       "    .dataframe thead th {\n",
       "        text-align: right;\n",
       "    }\n",
       "</style>\n",
       "<table border=\"1\" class=\"dataframe\">\n",
       "  <thead>\n",
       "    <tr style=\"text-align: right;\">\n",
       "      <th></th>\n",
       "      <th>data</th>\n",
       "      <th>trip_creation_time</th>\n",
       "      <th>route_schedule_uuid</th>\n",
       "      <th>route_type</th>\n",
       "      <th>trip_uuid</th>\n",
       "      <th>source_center</th>\n",
       "      <th>source_name</th>\n",
       "      <th>destination_center</th>\n",
       "      <th>destination_name</th>\n",
       "      <th>od_start_time</th>\n",
       "      <th>od_end_time</th>\n",
       "      <th>start_scan_to_end_scan</th>\n",
       "      <th>is_cutoff</th>\n",
       "      <th>cutoff_factor</th>\n",
       "      <th>cutoff_timestamp</th>\n",
       "      <th>actual_distance_to_destination</th>\n",
       "      <th>actual_time</th>\n",
       "      <th>osrm_time</th>\n",
       "      <th>osrm_distance</th>\n",
       "      <th>factor</th>\n",
       "      <th>segment_actual_time</th>\n",
       "      <th>segment_osrm_time</th>\n",
       "      <th>segment_osrm_distance</th>\n",
       "      <th>segment_factor</th>\n",
       "      <th>od_time_diff</th>\n",
       "      <th>source_city</th>\n",
       "      <th>destination_city</th>\n",
       "      <th>source_state</th>\n",
       "      <th>destination_state</th>\n",
       "      <th>trip_creation_year</th>\n",
       "      <th>trip_creation_month</th>\n",
       "      <th>trip_creation_day</th>\n",
       "    </tr>\n",
       "  </thead>\n",
       "  <tbody>\n",
       "    <tr>\n",
       "      <th>0</th>\n",
       "      <td>training</td>\n",
       "      <td>2018-09-20 02:35:36.476840</td>\n",
       "      <td>thanos::sroute:eb7bfc78-b351-4c0e-a951-fa3d5c3...</td>\n",
       "      <td>Carting</td>\n",
       "      <td>trip-153741093647649320</td>\n",
       "      <td>IND388121AAA</td>\n",
       "      <td>Anand_VUNagar_DC (Gujarat)</td>\n",
       "      <td>IND388620AAB</td>\n",
       "      <td>Khambhat_MotvdDPP_D (Gujarat)</td>\n",
       "      <td>2018-09-20 03:21:32.418600</td>\n",
       "      <td>2018-09-20 04:47:45.236797</td>\n",
       "      <td>86.0</td>\n",
       "      <td>True</td>\n",
       "      <td>9</td>\n",
       "      <td>2018-09-20 04:27:55.000000</td>\n",
       "      <td>10.435660</td>\n",
       "      <td>14.0</td>\n",
       "      <td>11.0</td>\n",
       "      <td>11.9653</td>\n",
       "      <td>1.272727</td>\n",
       "      <td>14.0</td>\n",
       "      <td>11.0</td>\n",
       "      <td>11.9653</td>\n",
       "      <td>1.272727</td>\n",
       "      <td>86</td>\n",
       "      <td>anand</td>\n",
       "      <td>khambhat</td>\n",
       "      <td>gujarat</td>\n",
       "      <td>gujarat</td>\n",
       "      <td>2018</td>\n",
       "      <td>9</td>\n",
       "      <td>20</td>\n",
       "    </tr>\n",
       "    <tr>\n",
       "      <th>1</th>\n",
       "      <td>training</td>\n",
       "      <td>2018-09-20 02:35:36.476840</td>\n",
       "      <td>thanos::sroute:eb7bfc78-b351-4c0e-a951-fa3d5c3...</td>\n",
       "      <td>Carting</td>\n",
       "      <td>trip-153741093647649320</td>\n",
       "      <td>IND388121AAA</td>\n",
       "      <td>Anand_VUNagar_DC (Gujarat)</td>\n",
       "      <td>IND388620AAB</td>\n",
       "      <td>Khambhat_MotvdDPP_D (Gujarat)</td>\n",
       "      <td>2018-09-20 03:21:32.418600</td>\n",
       "      <td>2018-09-20 04:47:45.236797</td>\n",
       "      <td>86.0</td>\n",
       "      <td>True</td>\n",
       "      <td>18</td>\n",
       "      <td>2018-09-20 04:17:55.000000</td>\n",
       "      <td>18.936842</td>\n",
       "      <td>24.0</td>\n",
       "      <td>20.0</td>\n",
       "      <td>21.7243</td>\n",
       "      <td>1.200000</td>\n",
       "      <td>10.0</td>\n",
       "      <td>9.0</td>\n",
       "      <td>9.7590</td>\n",
       "      <td>1.111111</td>\n",
       "      <td>86</td>\n",
       "      <td>anand</td>\n",
       "      <td>khambhat</td>\n",
       "      <td>gujarat</td>\n",
       "      <td>gujarat</td>\n",
       "      <td>2018</td>\n",
       "      <td>9</td>\n",
       "      <td>20</td>\n",
       "    </tr>\n",
       "    <tr>\n",
       "      <th>2</th>\n",
       "      <td>training</td>\n",
       "      <td>2018-09-20 02:35:36.476840</td>\n",
       "      <td>thanos::sroute:eb7bfc78-b351-4c0e-a951-fa3d5c3...</td>\n",
       "      <td>Carting</td>\n",
       "      <td>trip-153741093647649320</td>\n",
       "      <td>IND388121AAA</td>\n",
       "      <td>Anand_VUNagar_DC (Gujarat)</td>\n",
       "      <td>IND388620AAB</td>\n",
       "      <td>Khambhat_MotvdDPP_D (Gujarat)</td>\n",
       "      <td>2018-09-20 03:21:32.418600</td>\n",
       "      <td>2018-09-20 04:47:45.236797</td>\n",
       "      <td>86.0</td>\n",
       "      <td>True</td>\n",
       "      <td>27</td>\n",
       "      <td>2018-09-20 04:01:19.505586</td>\n",
       "      <td>27.637279</td>\n",
       "      <td>40.0</td>\n",
       "      <td>28.0</td>\n",
       "      <td>32.5395</td>\n",
       "      <td>1.428571</td>\n",
       "      <td>16.0</td>\n",
       "      <td>7.0</td>\n",
       "      <td>10.8152</td>\n",
       "      <td>2.285714</td>\n",
       "      <td>86</td>\n",
       "      <td>anand</td>\n",
       "      <td>khambhat</td>\n",
       "      <td>gujarat</td>\n",
       "      <td>gujarat</td>\n",
       "      <td>2018</td>\n",
       "      <td>9</td>\n",
       "      <td>20</td>\n",
       "    </tr>\n",
       "    <tr>\n",
       "      <th>3</th>\n",
       "      <td>training</td>\n",
       "      <td>2018-09-20 02:35:36.476840</td>\n",
       "      <td>thanos::sroute:eb7bfc78-b351-4c0e-a951-fa3d5c3...</td>\n",
       "      <td>Carting</td>\n",
       "      <td>trip-153741093647649320</td>\n",
       "      <td>IND388121AAA</td>\n",
       "      <td>Anand_VUNagar_DC (Gujarat)</td>\n",
       "      <td>IND388620AAB</td>\n",
       "      <td>Khambhat_MotvdDPP_D (Gujarat)</td>\n",
       "      <td>2018-09-20 03:21:32.418600</td>\n",
       "      <td>2018-09-20 04:47:45.236797</td>\n",
       "      <td>86.0</td>\n",
       "      <td>True</td>\n",
       "      <td>36</td>\n",
       "      <td>2018-09-20 03:39:57.000000</td>\n",
       "      <td>36.118028</td>\n",
       "      <td>62.0</td>\n",
       "      <td>40.0</td>\n",
       "      <td>45.5620</td>\n",
       "      <td>1.550000</td>\n",
       "      <td>21.0</td>\n",
       "      <td>12.0</td>\n",
       "      <td>13.0224</td>\n",
       "      <td>1.750000</td>\n",
       "      <td>86</td>\n",
       "      <td>anand</td>\n",
       "      <td>khambhat</td>\n",
       "      <td>gujarat</td>\n",
       "      <td>gujarat</td>\n",
       "      <td>2018</td>\n",
       "      <td>9</td>\n",
       "      <td>20</td>\n",
       "    </tr>\n",
       "    <tr>\n",
       "      <th>4</th>\n",
       "      <td>training</td>\n",
       "      <td>2018-09-20 02:35:36.476840</td>\n",
       "      <td>thanos::sroute:eb7bfc78-b351-4c0e-a951-fa3d5c3...</td>\n",
       "      <td>Carting</td>\n",
       "      <td>trip-153741093647649320</td>\n",
       "      <td>IND388121AAA</td>\n",
       "      <td>Anand_VUNagar_DC (Gujarat)</td>\n",
       "      <td>IND388620AAB</td>\n",
       "      <td>Khambhat_MotvdDPP_D (Gujarat)</td>\n",
       "      <td>2018-09-20 03:21:32.418600</td>\n",
       "      <td>2018-09-20 04:47:45.236797</td>\n",
       "      <td>86.0</td>\n",
       "      <td>False</td>\n",
       "      <td>39</td>\n",
       "      <td>2018-09-20 03:33:55.000000</td>\n",
       "      <td>39.386040</td>\n",
       "      <td>68.0</td>\n",
       "      <td>44.0</td>\n",
       "      <td>54.2181</td>\n",
       "      <td>1.545455</td>\n",
       "      <td>6.0</td>\n",
       "      <td>5.0</td>\n",
       "      <td>3.9153</td>\n",
       "      <td>1.200000</td>\n",
       "      <td>86</td>\n",
       "      <td>anand</td>\n",
       "      <td>khambhat</td>\n",
       "      <td>gujarat</td>\n",
       "      <td>gujarat</td>\n",
       "      <td>2018</td>\n",
       "      <td>9</td>\n",
       "      <td>20</td>\n",
       "    </tr>\n",
       "  </tbody>\n",
       "</table>\n",
       "</div>"
      ],
      "text/plain": [
       "       data         trip_creation_time  \\\n",
       "0  training 2018-09-20 02:35:36.476840   \n",
       "1  training 2018-09-20 02:35:36.476840   \n",
       "2  training 2018-09-20 02:35:36.476840   \n",
       "3  training 2018-09-20 02:35:36.476840   \n",
       "4  training 2018-09-20 02:35:36.476840   \n",
       "\n",
       "                                 route_schedule_uuid route_type  \\\n",
       "0  thanos::sroute:eb7bfc78-b351-4c0e-a951-fa3d5c3...    Carting   \n",
       "1  thanos::sroute:eb7bfc78-b351-4c0e-a951-fa3d5c3...    Carting   \n",
       "2  thanos::sroute:eb7bfc78-b351-4c0e-a951-fa3d5c3...    Carting   \n",
       "3  thanos::sroute:eb7bfc78-b351-4c0e-a951-fa3d5c3...    Carting   \n",
       "4  thanos::sroute:eb7bfc78-b351-4c0e-a951-fa3d5c3...    Carting   \n",
       "\n",
       "                 trip_uuid source_center                 source_name  \\\n",
       "0  trip-153741093647649320  IND388121AAA  Anand_VUNagar_DC (Gujarat)   \n",
       "1  trip-153741093647649320  IND388121AAA  Anand_VUNagar_DC (Gujarat)   \n",
       "2  trip-153741093647649320  IND388121AAA  Anand_VUNagar_DC (Gujarat)   \n",
       "3  trip-153741093647649320  IND388121AAA  Anand_VUNagar_DC (Gujarat)   \n",
       "4  trip-153741093647649320  IND388121AAA  Anand_VUNagar_DC (Gujarat)   \n",
       "\n",
       "  destination_center               destination_name  \\\n",
       "0       IND388620AAB  Khambhat_MotvdDPP_D (Gujarat)   \n",
       "1       IND388620AAB  Khambhat_MotvdDPP_D (Gujarat)   \n",
       "2       IND388620AAB  Khambhat_MotvdDPP_D (Gujarat)   \n",
       "3       IND388620AAB  Khambhat_MotvdDPP_D (Gujarat)   \n",
       "4       IND388620AAB  Khambhat_MotvdDPP_D (Gujarat)   \n",
       "\n",
       "               od_start_time                od_end_time  \\\n",
       "0 2018-09-20 03:21:32.418600 2018-09-20 04:47:45.236797   \n",
       "1 2018-09-20 03:21:32.418600 2018-09-20 04:47:45.236797   \n",
       "2 2018-09-20 03:21:32.418600 2018-09-20 04:47:45.236797   \n",
       "3 2018-09-20 03:21:32.418600 2018-09-20 04:47:45.236797   \n",
       "4 2018-09-20 03:21:32.418600 2018-09-20 04:47:45.236797   \n",
       "\n",
       "   start_scan_to_end_scan  is_cutoff  cutoff_factor  \\\n",
       "0                    86.0       True              9   \n",
       "1                    86.0       True             18   \n",
       "2                    86.0       True             27   \n",
       "3                    86.0       True             36   \n",
       "4                    86.0      False             39   \n",
       "\n",
       "            cutoff_timestamp  actual_distance_to_destination  actual_time  \\\n",
       "0 2018-09-20 04:27:55.000000                       10.435660         14.0   \n",
       "1 2018-09-20 04:17:55.000000                       18.936842         24.0   \n",
       "2 2018-09-20 04:01:19.505586                       27.637279         40.0   \n",
       "3 2018-09-20 03:39:57.000000                       36.118028         62.0   \n",
       "4 2018-09-20 03:33:55.000000                       39.386040         68.0   \n",
       "\n",
       "   osrm_time  osrm_distance    factor  segment_actual_time  segment_osrm_time  \\\n",
       "0       11.0        11.9653  1.272727                 14.0               11.0   \n",
       "1       20.0        21.7243  1.200000                 10.0                9.0   \n",
       "2       28.0        32.5395  1.428571                 16.0                7.0   \n",
       "3       40.0        45.5620  1.550000                 21.0               12.0   \n",
       "4       44.0        54.2181  1.545455                  6.0                5.0   \n",
       "\n",
       "   segment_osrm_distance  segment_factor  od_time_diff source_city  \\\n",
       "0                11.9653        1.272727            86       anand   \n",
       "1                 9.7590        1.111111            86       anand   \n",
       "2                10.8152        2.285714            86       anand   \n",
       "3                13.0224        1.750000            86       anand   \n",
       "4                 3.9153        1.200000            86       anand   \n",
       "\n",
       "  destination_city source_state destination_state  trip_creation_year  \\\n",
       "0         khambhat      gujarat           gujarat                2018   \n",
       "1         khambhat      gujarat           gujarat                2018   \n",
       "2         khambhat      gujarat           gujarat                2018   \n",
       "3         khambhat      gujarat           gujarat                2018   \n",
       "4         khambhat      gujarat           gujarat                2018   \n",
       "\n",
       "   trip_creation_month  trip_creation_day  \n",
       "0                    9                 20  \n",
       "1                    9                 20  \n",
       "2                    9                 20  \n",
       "3                    9                 20  \n",
       "4                    9                 20  "
      ]
     },
     "execution_count": 21,
     "metadata": {},
     "output_type": "execute_result"
    }
   ],
   "source": [
    "df.head()"
   ]
  },
  {
   "cell_type": "markdown",
   "metadata": {},
   "source": [
    "---"
   ]
  },
  {
   "cell_type": "markdown",
   "metadata": {},
   "source": [
    "# Data Aggregation"
   ]
  },
  {
   "cell_type": "code",
   "execution_count": 22,
   "metadata": {},
   "outputs": [
    {
     "data": {
      "text/html": [
       "<div>\n",
       "<style scoped>\n",
       "    .dataframe tbody tr th:only-of-type {\n",
       "        vertical-align: middle;\n",
       "    }\n",
       "\n",
       "    .dataframe tbody tr th {\n",
       "        vertical-align: top;\n",
       "    }\n",
       "\n",
       "    .dataframe thead th {\n",
       "        text-align: right;\n",
       "    }\n",
       "</style>\n",
       "<table border=\"1\" class=\"dataframe\">\n",
       "  <thead>\n",
       "    <tr style=\"text-align: right;\">\n",
       "      <th></th>\n",
       "      <th>data</th>\n",
       "      <th>trip_creation_time</th>\n",
       "      <th>route_schedule_uuid</th>\n",
       "      <th>route_type</th>\n",
       "      <th>trip_uuid</th>\n",
       "      <th>source_center</th>\n",
       "      <th>source_name</th>\n",
       "      <th>destination_center</th>\n",
       "      <th>destination_name</th>\n",
       "      <th>od_start_time</th>\n",
       "      <th>od_end_time</th>\n",
       "      <th>start_scan_to_end_scan</th>\n",
       "      <th>is_cutoff</th>\n",
       "      <th>cutoff_factor</th>\n",
       "      <th>cutoff_timestamp</th>\n",
       "      <th>actual_distance_to_destination</th>\n",
       "      <th>actual_time</th>\n",
       "      <th>osrm_time</th>\n",
       "      <th>osrm_distance</th>\n",
       "      <th>factor</th>\n",
       "      <th>segment_actual_time</th>\n",
       "      <th>segment_osrm_time</th>\n",
       "      <th>segment_osrm_distance</th>\n",
       "      <th>segment_factor</th>\n",
       "      <th>od_time_diff</th>\n",
       "      <th>source_city</th>\n",
       "      <th>destination_city</th>\n",
       "      <th>source_state</th>\n",
       "      <th>destination_state</th>\n",
       "      <th>trip_creation_year</th>\n",
       "      <th>trip_creation_month</th>\n",
       "      <th>trip_creation_day</th>\n",
       "    </tr>\n",
       "  </thead>\n",
       "  <tbody>\n",
       "    <tr>\n",
       "      <th>0</th>\n",
       "      <td>training</td>\n",
       "      <td>2018-09-20 02:35:36.476840</td>\n",
       "      <td>thanos::sroute:eb7bfc78-b351-4c0e-a951-fa3d5c3...</td>\n",
       "      <td>Carting</td>\n",
       "      <td>trip-153741093647649320</td>\n",
       "      <td>IND388121AAA</td>\n",
       "      <td>Anand_VUNagar_DC (Gujarat)</td>\n",
       "      <td>IND388620AAB</td>\n",
       "      <td>Khambhat_MotvdDPP_D (Gujarat)</td>\n",
       "      <td>2018-09-20 03:21:32.418600</td>\n",
       "      <td>2018-09-20 04:47:45.236797</td>\n",
       "      <td>86.0</td>\n",
       "      <td>True</td>\n",
       "      <td>9</td>\n",
       "      <td>2018-09-20 04:27:55.000000</td>\n",
       "      <td>10.435660</td>\n",
       "      <td>14.0</td>\n",
       "      <td>11.0</td>\n",
       "      <td>11.9653</td>\n",
       "      <td>1.272727</td>\n",
       "      <td>14.0</td>\n",
       "      <td>11.0</td>\n",
       "      <td>11.9653</td>\n",
       "      <td>1.272727</td>\n",
       "      <td>86</td>\n",
       "      <td>anand</td>\n",
       "      <td>khambhat</td>\n",
       "      <td>gujarat</td>\n",
       "      <td>gujarat</td>\n",
       "      <td>2018</td>\n",
       "      <td>9</td>\n",
       "      <td>20</td>\n",
       "    </tr>\n",
       "    <tr>\n",
       "      <th>1</th>\n",
       "      <td>training</td>\n",
       "      <td>2018-09-20 02:35:36.476840</td>\n",
       "      <td>thanos::sroute:eb7bfc78-b351-4c0e-a951-fa3d5c3...</td>\n",
       "      <td>Carting</td>\n",
       "      <td>trip-153741093647649320</td>\n",
       "      <td>IND388121AAA</td>\n",
       "      <td>Anand_VUNagar_DC (Gujarat)</td>\n",
       "      <td>IND388620AAB</td>\n",
       "      <td>Khambhat_MotvdDPP_D (Gujarat)</td>\n",
       "      <td>2018-09-20 03:21:32.418600</td>\n",
       "      <td>2018-09-20 04:47:45.236797</td>\n",
       "      <td>86.0</td>\n",
       "      <td>True</td>\n",
       "      <td>18</td>\n",
       "      <td>2018-09-20 04:17:55.000000</td>\n",
       "      <td>18.936842</td>\n",
       "      <td>24.0</td>\n",
       "      <td>20.0</td>\n",
       "      <td>21.7243</td>\n",
       "      <td>1.200000</td>\n",
       "      <td>10.0</td>\n",
       "      <td>9.0</td>\n",
       "      <td>9.7590</td>\n",
       "      <td>1.111111</td>\n",
       "      <td>86</td>\n",
       "      <td>anand</td>\n",
       "      <td>khambhat</td>\n",
       "      <td>gujarat</td>\n",
       "      <td>gujarat</td>\n",
       "      <td>2018</td>\n",
       "      <td>9</td>\n",
       "      <td>20</td>\n",
       "    </tr>\n",
       "    <tr>\n",
       "      <th>2</th>\n",
       "      <td>training</td>\n",
       "      <td>2018-09-20 02:35:36.476840</td>\n",
       "      <td>thanos::sroute:eb7bfc78-b351-4c0e-a951-fa3d5c3...</td>\n",
       "      <td>Carting</td>\n",
       "      <td>trip-153741093647649320</td>\n",
       "      <td>IND388121AAA</td>\n",
       "      <td>Anand_VUNagar_DC (Gujarat)</td>\n",
       "      <td>IND388620AAB</td>\n",
       "      <td>Khambhat_MotvdDPP_D (Gujarat)</td>\n",
       "      <td>2018-09-20 03:21:32.418600</td>\n",
       "      <td>2018-09-20 04:47:45.236797</td>\n",
       "      <td>86.0</td>\n",
       "      <td>True</td>\n",
       "      <td>27</td>\n",
       "      <td>2018-09-20 04:01:19.505586</td>\n",
       "      <td>27.637279</td>\n",
       "      <td>40.0</td>\n",
       "      <td>28.0</td>\n",
       "      <td>32.5395</td>\n",
       "      <td>1.428571</td>\n",
       "      <td>16.0</td>\n",
       "      <td>7.0</td>\n",
       "      <td>10.8152</td>\n",
       "      <td>2.285714</td>\n",
       "      <td>86</td>\n",
       "      <td>anand</td>\n",
       "      <td>khambhat</td>\n",
       "      <td>gujarat</td>\n",
       "      <td>gujarat</td>\n",
       "      <td>2018</td>\n",
       "      <td>9</td>\n",
       "      <td>20</td>\n",
       "    </tr>\n",
       "    <tr>\n",
       "      <th>3</th>\n",
       "      <td>training</td>\n",
       "      <td>2018-09-20 02:35:36.476840</td>\n",
       "      <td>thanos::sroute:eb7bfc78-b351-4c0e-a951-fa3d5c3...</td>\n",
       "      <td>Carting</td>\n",
       "      <td>trip-153741093647649320</td>\n",
       "      <td>IND388121AAA</td>\n",
       "      <td>Anand_VUNagar_DC (Gujarat)</td>\n",
       "      <td>IND388620AAB</td>\n",
       "      <td>Khambhat_MotvdDPP_D (Gujarat)</td>\n",
       "      <td>2018-09-20 03:21:32.418600</td>\n",
       "      <td>2018-09-20 04:47:45.236797</td>\n",
       "      <td>86.0</td>\n",
       "      <td>True</td>\n",
       "      <td>36</td>\n",
       "      <td>2018-09-20 03:39:57.000000</td>\n",
       "      <td>36.118028</td>\n",
       "      <td>62.0</td>\n",
       "      <td>40.0</td>\n",
       "      <td>45.5620</td>\n",
       "      <td>1.550000</td>\n",
       "      <td>21.0</td>\n",
       "      <td>12.0</td>\n",
       "      <td>13.0224</td>\n",
       "      <td>1.750000</td>\n",
       "      <td>86</td>\n",
       "      <td>anand</td>\n",
       "      <td>khambhat</td>\n",
       "      <td>gujarat</td>\n",
       "      <td>gujarat</td>\n",
       "      <td>2018</td>\n",
       "      <td>9</td>\n",
       "      <td>20</td>\n",
       "    </tr>\n",
       "    <tr>\n",
       "      <th>4</th>\n",
       "      <td>training</td>\n",
       "      <td>2018-09-20 02:35:36.476840</td>\n",
       "      <td>thanos::sroute:eb7bfc78-b351-4c0e-a951-fa3d5c3...</td>\n",
       "      <td>Carting</td>\n",
       "      <td>trip-153741093647649320</td>\n",
       "      <td>IND388121AAA</td>\n",
       "      <td>Anand_VUNagar_DC (Gujarat)</td>\n",
       "      <td>IND388620AAB</td>\n",
       "      <td>Khambhat_MotvdDPP_D (Gujarat)</td>\n",
       "      <td>2018-09-20 03:21:32.418600</td>\n",
       "      <td>2018-09-20 04:47:45.236797</td>\n",
       "      <td>86.0</td>\n",
       "      <td>False</td>\n",
       "      <td>39</td>\n",
       "      <td>2018-09-20 03:33:55.000000</td>\n",
       "      <td>39.386040</td>\n",
       "      <td>68.0</td>\n",
       "      <td>44.0</td>\n",
       "      <td>54.2181</td>\n",
       "      <td>1.545455</td>\n",
       "      <td>6.0</td>\n",
       "      <td>5.0</td>\n",
       "      <td>3.9153</td>\n",
       "      <td>1.200000</td>\n",
       "      <td>86</td>\n",
       "      <td>anand</td>\n",
       "      <td>khambhat</td>\n",
       "      <td>gujarat</td>\n",
       "      <td>gujarat</td>\n",
       "      <td>2018</td>\n",
       "      <td>9</td>\n",
       "      <td>20</td>\n",
       "    </tr>\n",
       "  </tbody>\n",
       "</table>\n",
       "</div>"
      ],
      "text/plain": [
       "       data         trip_creation_time  \\\n",
       "0  training 2018-09-20 02:35:36.476840   \n",
       "1  training 2018-09-20 02:35:36.476840   \n",
       "2  training 2018-09-20 02:35:36.476840   \n",
       "3  training 2018-09-20 02:35:36.476840   \n",
       "4  training 2018-09-20 02:35:36.476840   \n",
       "\n",
       "                                 route_schedule_uuid route_type  \\\n",
       "0  thanos::sroute:eb7bfc78-b351-4c0e-a951-fa3d5c3...    Carting   \n",
       "1  thanos::sroute:eb7bfc78-b351-4c0e-a951-fa3d5c3...    Carting   \n",
       "2  thanos::sroute:eb7bfc78-b351-4c0e-a951-fa3d5c3...    Carting   \n",
       "3  thanos::sroute:eb7bfc78-b351-4c0e-a951-fa3d5c3...    Carting   \n",
       "4  thanos::sroute:eb7bfc78-b351-4c0e-a951-fa3d5c3...    Carting   \n",
       "\n",
       "                 trip_uuid source_center                 source_name  \\\n",
       "0  trip-153741093647649320  IND388121AAA  Anand_VUNagar_DC (Gujarat)   \n",
       "1  trip-153741093647649320  IND388121AAA  Anand_VUNagar_DC (Gujarat)   \n",
       "2  trip-153741093647649320  IND388121AAA  Anand_VUNagar_DC (Gujarat)   \n",
       "3  trip-153741093647649320  IND388121AAA  Anand_VUNagar_DC (Gujarat)   \n",
       "4  trip-153741093647649320  IND388121AAA  Anand_VUNagar_DC (Gujarat)   \n",
       "\n",
       "  destination_center               destination_name  \\\n",
       "0       IND388620AAB  Khambhat_MotvdDPP_D (Gujarat)   \n",
       "1       IND388620AAB  Khambhat_MotvdDPP_D (Gujarat)   \n",
       "2       IND388620AAB  Khambhat_MotvdDPP_D (Gujarat)   \n",
       "3       IND388620AAB  Khambhat_MotvdDPP_D (Gujarat)   \n",
       "4       IND388620AAB  Khambhat_MotvdDPP_D (Gujarat)   \n",
       "\n",
       "               od_start_time                od_end_time  \\\n",
       "0 2018-09-20 03:21:32.418600 2018-09-20 04:47:45.236797   \n",
       "1 2018-09-20 03:21:32.418600 2018-09-20 04:47:45.236797   \n",
       "2 2018-09-20 03:21:32.418600 2018-09-20 04:47:45.236797   \n",
       "3 2018-09-20 03:21:32.418600 2018-09-20 04:47:45.236797   \n",
       "4 2018-09-20 03:21:32.418600 2018-09-20 04:47:45.236797   \n",
       "\n",
       "   start_scan_to_end_scan  is_cutoff  cutoff_factor  \\\n",
       "0                    86.0       True              9   \n",
       "1                    86.0       True             18   \n",
       "2                    86.0       True             27   \n",
       "3                    86.0       True             36   \n",
       "4                    86.0      False             39   \n",
       "\n",
       "            cutoff_timestamp  actual_distance_to_destination  actual_time  \\\n",
       "0 2018-09-20 04:27:55.000000                       10.435660         14.0   \n",
       "1 2018-09-20 04:17:55.000000                       18.936842         24.0   \n",
       "2 2018-09-20 04:01:19.505586                       27.637279         40.0   \n",
       "3 2018-09-20 03:39:57.000000                       36.118028         62.0   \n",
       "4 2018-09-20 03:33:55.000000                       39.386040         68.0   \n",
       "\n",
       "   osrm_time  osrm_distance    factor  segment_actual_time  segment_osrm_time  \\\n",
       "0       11.0        11.9653  1.272727                 14.0               11.0   \n",
       "1       20.0        21.7243  1.200000                 10.0                9.0   \n",
       "2       28.0        32.5395  1.428571                 16.0                7.0   \n",
       "3       40.0        45.5620  1.550000                 21.0               12.0   \n",
       "4       44.0        54.2181  1.545455                  6.0                5.0   \n",
       "\n",
       "   segment_osrm_distance  segment_factor  od_time_diff source_city  \\\n",
       "0                11.9653        1.272727            86       anand   \n",
       "1                 9.7590        1.111111            86       anand   \n",
       "2                10.8152        2.285714            86       anand   \n",
       "3                13.0224        1.750000            86       anand   \n",
       "4                 3.9153        1.200000            86       anand   \n",
       "\n",
       "  destination_city source_state destination_state  trip_creation_year  \\\n",
       "0         khambhat      gujarat           gujarat                2018   \n",
       "1         khambhat      gujarat           gujarat                2018   \n",
       "2         khambhat      gujarat           gujarat                2018   \n",
       "3         khambhat      gujarat           gujarat                2018   \n",
       "4         khambhat      gujarat           gujarat                2018   \n",
       "\n",
       "   trip_creation_month  trip_creation_day  \n",
       "0                    9                 20  \n",
       "1                    9                 20  \n",
       "2                    9                 20  \n",
       "3                    9                 20  \n",
       "4                    9                 20  "
      ]
     },
     "execution_count": 22,
     "metadata": {},
     "output_type": "execute_result"
    }
   ],
   "source": [
    "df.head()"
   ]
  },
  {
   "cell_type": "code",
   "execution_count": 23,
   "metadata": {},
   "outputs": [],
   "source": [
    "df_trip_source_destination_level = df.groupby(['trip_uuid','source_center','destination_center']).agg(\n",
    "                                    {'route_type':'first',\n",
    "                                     'source_city':'first',\n",
    "                                    'source_state':'first',\n",
    "                                    'destination_city':'first',\n",
    "                                    'destination_state':'first',\n",
    "                                    'actual_time':'max',\n",
    "                                    'osrm_time':'max',\n",
    "                                    'segment_actual_time':'sum',\n",
    "                                    'segment_osrm_time':'sum',\n",
    "                                    'actual_distance_to_destination':'max',\n",
    "                                    'osrm_distance':'max',\n",
    "                                    'segment_osrm_distance':'sum',\n",
    "                                    'start_scan_to_end_scan':'first',\n",
    "                                    'od_time_diff':'first'})"
   ]
  },
  {
   "cell_type": "code",
   "execution_count": 24,
   "metadata": {},
   "outputs": [
    {
     "data": {
      "text/plain": [
       "(26222, 14)"
      ]
     },
     "execution_count": 24,
     "metadata": {},
     "output_type": "execute_result"
    }
   ],
   "source": [
    "df_trip_source_destination_level.shape"
   ]
  },
  {
   "cell_type": "code",
   "execution_count": 25,
   "metadata": {},
   "outputs": [
    {
     "data": {
      "text/html": [
       "<div>\n",
       "<style scoped>\n",
       "    .dataframe tbody tr th:only-of-type {\n",
       "        vertical-align: middle;\n",
       "    }\n",
       "\n",
       "    .dataframe tbody tr th {\n",
       "        vertical-align: top;\n",
       "    }\n",
       "\n",
       "    .dataframe thead th {\n",
       "        text-align: right;\n",
       "    }\n",
       "</style>\n",
       "<table border=\"1\" class=\"dataframe\">\n",
       "  <thead>\n",
       "    <tr style=\"text-align: right;\">\n",
       "      <th></th>\n",
       "      <th></th>\n",
       "      <th></th>\n",
       "      <th>route_type</th>\n",
       "      <th>source_city</th>\n",
       "      <th>source_state</th>\n",
       "      <th>destination_city</th>\n",
       "      <th>destination_state</th>\n",
       "      <th>actual_time</th>\n",
       "      <th>osrm_time</th>\n",
       "      <th>segment_actual_time</th>\n",
       "      <th>segment_osrm_time</th>\n",
       "      <th>actual_distance_to_destination</th>\n",
       "      <th>osrm_distance</th>\n",
       "      <th>segment_osrm_distance</th>\n",
       "      <th>start_scan_to_end_scan</th>\n",
       "      <th>od_time_diff</th>\n",
       "    </tr>\n",
       "    <tr>\n",
       "      <th>trip_uuid</th>\n",
       "      <th>source_center</th>\n",
       "      <th>destination_center</th>\n",
       "      <th></th>\n",
       "      <th></th>\n",
       "      <th></th>\n",
       "      <th></th>\n",
       "      <th></th>\n",
       "      <th></th>\n",
       "      <th></th>\n",
       "      <th></th>\n",
       "      <th></th>\n",
       "      <th></th>\n",
       "      <th></th>\n",
       "      <th></th>\n",
       "      <th></th>\n",
       "      <th></th>\n",
       "    </tr>\n",
       "  </thead>\n",
       "  <tbody>\n",
       "    <tr>\n",
       "      <th rowspan=\"2\" valign=\"top\">trip-153671041653548748</th>\n",
       "      <th>IND209304AAA</th>\n",
       "      <th>IND000000ACB</th>\n",
       "      <td>FTL</td>\n",
       "      <td>kanpur</td>\n",
       "      <td>uttar pradesh</td>\n",
       "      <td>gurgaon</td>\n",
       "      <td>haryana</td>\n",
       "      <td>732.0</td>\n",
       "      <td>349.0</td>\n",
       "      <td>728.0</td>\n",
       "      <td>534.0</td>\n",
       "      <td>383.759164</td>\n",
       "      <td>446.5496</td>\n",
       "      <td>670.6205</td>\n",
       "      <td>1260.0</td>\n",
       "      <td>1260</td>\n",
       "    </tr>\n",
       "    <tr>\n",
       "      <th>IND462022AAA</th>\n",
       "      <th>IND209304AAA</th>\n",
       "      <td>FTL</td>\n",
       "      <td>bhopal</td>\n",
       "      <td>madhya pradesh</td>\n",
       "      <td>kanpur</td>\n",
       "      <td>uttar pradesh</td>\n",
       "      <td>830.0</td>\n",
       "      <td>394.0</td>\n",
       "      <td>820.0</td>\n",
       "      <td>474.0</td>\n",
       "      <td>440.973689</td>\n",
       "      <td>544.8027</td>\n",
       "      <td>649.8528</td>\n",
       "      <td>999.0</td>\n",
       "      <td>999</td>\n",
       "    </tr>\n",
       "    <tr>\n",
       "      <th rowspan=\"2\" valign=\"top\">trip-153671042288605164</th>\n",
       "      <th>IND561203AAB</th>\n",
       "      <th>IND562101AAA</th>\n",
       "      <td>Carting</td>\n",
       "      <td>doddablpur</td>\n",
       "      <td>karnataka</td>\n",
       "      <td>chikblapur</td>\n",
       "      <td>karnataka</td>\n",
       "      <td>47.0</td>\n",
       "      <td>26.0</td>\n",
       "      <td>46.0</td>\n",
       "      <td>26.0</td>\n",
       "      <td>24.644021</td>\n",
       "      <td>28.1994</td>\n",
       "      <td>28.1995</td>\n",
       "      <td>58.0</td>\n",
       "      <td>58</td>\n",
       "    </tr>\n",
       "    <tr>\n",
       "      <th>IND572101AAA</th>\n",
       "      <th>IND561203AAB</th>\n",
       "      <td>Carting</td>\n",
       "      <td>tumkur</td>\n",
       "      <td>karnataka</td>\n",
       "      <td>doddablpur</td>\n",
       "      <td>karnataka</td>\n",
       "      <td>96.0</td>\n",
       "      <td>42.0</td>\n",
       "      <td>95.0</td>\n",
       "      <td>39.0</td>\n",
       "      <td>48.542890</td>\n",
       "      <td>56.9116</td>\n",
       "      <td>55.9899</td>\n",
       "      <td>122.0</td>\n",
       "      <td>122</td>\n",
       "    </tr>\n",
       "    <tr>\n",
       "      <th>trip-153671043369099517</th>\n",
       "      <th>IND000000ACB</th>\n",
       "      <th>IND160002AAC</th>\n",
       "      <td>FTL</td>\n",
       "      <td>gurgaon</td>\n",
       "      <td>haryana</td>\n",
       "      <td>chandigarh</td>\n",
       "      <td>punjab</td>\n",
       "      <td>611.0</td>\n",
       "      <td>212.0</td>\n",
       "      <td>608.0</td>\n",
       "      <td>231.0</td>\n",
       "      <td>242.309306</td>\n",
       "      <td>281.2109</td>\n",
       "      <td>317.7408</td>\n",
       "      <td>834.0</td>\n",
       "      <td>834</td>\n",
       "    </tr>\n",
       "  </tbody>\n",
       "</table>\n",
       "</div>"
      ],
      "text/plain": [
       "                                                         route_type  \\\n",
       "trip_uuid               source_center destination_center              \n",
       "trip-153671041653548748 IND209304AAA  IND000000ACB              FTL   \n",
       "                        IND462022AAA  IND209304AAA              FTL   \n",
       "trip-153671042288605164 IND561203AAB  IND562101AAA          Carting   \n",
       "                        IND572101AAA  IND561203AAB          Carting   \n",
       "trip-153671043369099517 IND000000ACB  IND160002AAC              FTL   \n",
       "\n",
       "                                                         source_city  \\\n",
       "trip_uuid               source_center destination_center               \n",
       "trip-153671041653548748 IND209304AAA  IND000000ACB            kanpur   \n",
       "                        IND462022AAA  IND209304AAA            bhopal   \n",
       "trip-153671042288605164 IND561203AAB  IND562101AAA        doddablpur   \n",
       "                        IND572101AAA  IND561203AAB            tumkur   \n",
       "trip-153671043369099517 IND000000ACB  IND160002AAC           gurgaon   \n",
       "\n",
       "                                                            source_state  \\\n",
       "trip_uuid               source_center destination_center                   \n",
       "trip-153671041653548748 IND209304AAA  IND000000ACB         uttar pradesh   \n",
       "                        IND462022AAA  IND209304AAA        madhya pradesh   \n",
       "trip-153671042288605164 IND561203AAB  IND562101AAA             karnataka   \n",
       "                        IND572101AAA  IND561203AAB             karnataka   \n",
       "trip-153671043369099517 IND000000ACB  IND160002AAC               haryana   \n",
       "\n",
       "                                                         destination_city  \\\n",
       "trip_uuid               source_center destination_center                    \n",
       "trip-153671041653548748 IND209304AAA  IND000000ACB                gurgaon   \n",
       "                        IND462022AAA  IND209304AAA                 kanpur   \n",
       "trip-153671042288605164 IND561203AAB  IND562101AAA             chikblapur   \n",
       "                        IND572101AAA  IND561203AAB             doddablpur   \n",
       "trip-153671043369099517 IND000000ACB  IND160002AAC             chandigarh   \n",
       "\n",
       "                                                         destination_state  \\\n",
       "trip_uuid               source_center destination_center                     \n",
       "trip-153671041653548748 IND209304AAA  IND000000ACB                 haryana   \n",
       "                        IND462022AAA  IND209304AAA           uttar pradesh   \n",
       "trip-153671042288605164 IND561203AAB  IND562101AAA               karnataka   \n",
       "                        IND572101AAA  IND561203AAB               karnataka   \n",
       "trip-153671043369099517 IND000000ACB  IND160002AAC                  punjab   \n",
       "\n",
       "                                                          actual_time  \\\n",
       "trip_uuid               source_center destination_center                \n",
       "trip-153671041653548748 IND209304AAA  IND000000ACB              732.0   \n",
       "                        IND462022AAA  IND209304AAA              830.0   \n",
       "trip-153671042288605164 IND561203AAB  IND562101AAA               47.0   \n",
       "                        IND572101AAA  IND561203AAB               96.0   \n",
       "trip-153671043369099517 IND000000ACB  IND160002AAC              611.0   \n",
       "\n",
       "                                                          osrm_time  \\\n",
       "trip_uuid               source_center destination_center              \n",
       "trip-153671041653548748 IND209304AAA  IND000000ACB            349.0   \n",
       "                        IND462022AAA  IND209304AAA            394.0   \n",
       "trip-153671042288605164 IND561203AAB  IND562101AAA             26.0   \n",
       "                        IND572101AAA  IND561203AAB             42.0   \n",
       "trip-153671043369099517 IND000000ACB  IND160002AAC            212.0   \n",
       "\n",
       "                                                          segment_actual_time  \\\n",
       "trip_uuid               source_center destination_center                        \n",
       "trip-153671041653548748 IND209304AAA  IND000000ACB                      728.0   \n",
       "                        IND462022AAA  IND209304AAA                      820.0   \n",
       "trip-153671042288605164 IND561203AAB  IND562101AAA                       46.0   \n",
       "                        IND572101AAA  IND561203AAB                       95.0   \n",
       "trip-153671043369099517 IND000000ACB  IND160002AAC                      608.0   \n",
       "\n",
       "                                                          segment_osrm_time  \\\n",
       "trip_uuid               source_center destination_center                      \n",
       "trip-153671041653548748 IND209304AAA  IND000000ACB                    534.0   \n",
       "                        IND462022AAA  IND209304AAA                    474.0   \n",
       "trip-153671042288605164 IND561203AAB  IND562101AAA                     26.0   \n",
       "                        IND572101AAA  IND561203AAB                     39.0   \n",
       "trip-153671043369099517 IND000000ACB  IND160002AAC                    231.0   \n",
       "\n",
       "                                                          actual_distance_to_destination  \\\n",
       "trip_uuid               source_center destination_center                                   \n",
       "trip-153671041653548748 IND209304AAA  IND000000ACB                            383.759164   \n",
       "                        IND462022AAA  IND209304AAA                            440.973689   \n",
       "trip-153671042288605164 IND561203AAB  IND562101AAA                             24.644021   \n",
       "                        IND572101AAA  IND561203AAB                             48.542890   \n",
       "trip-153671043369099517 IND000000ACB  IND160002AAC                            242.309306   \n",
       "\n",
       "                                                          osrm_distance  \\\n",
       "trip_uuid               source_center destination_center                  \n",
       "trip-153671041653548748 IND209304AAA  IND000000ACB             446.5496   \n",
       "                        IND462022AAA  IND209304AAA             544.8027   \n",
       "trip-153671042288605164 IND561203AAB  IND562101AAA              28.1994   \n",
       "                        IND572101AAA  IND561203AAB              56.9116   \n",
       "trip-153671043369099517 IND000000ACB  IND160002AAC             281.2109   \n",
       "\n",
       "                                                          segment_osrm_distance  \\\n",
       "trip_uuid               source_center destination_center                          \n",
       "trip-153671041653548748 IND209304AAA  IND000000ACB                     670.6205   \n",
       "                        IND462022AAA  IND209304AAA                     649.8528   \n",
       "trip-153671042288605164 IND561203AAB  IND562101AAA                      28.1995   \n",
       "                        IND572101AAA  IND561203AAB                      55.9899   \n",
       "trip-153671043369099517 IND000000ACB  IND160002AAC                     317.7408   \n",
       "\n",
       "                                                          start_scan_to_end_scan  \\\n",
       "trip_uuid               source_center destination_center                           \n",
       "trip-153671041653548748 IND209304AAA  IND000000ACB                        1260.0   \n",
       "                        IND462022AAA  IND209304AAA                         999.0   \n",
       "trip-153671042288605164 IND561203AAB  IND562101AAA                          58.0   \n",
       "                        IND572101AAA  IND561203AAB                         122.0   \n",
       "trip-153671043369099517 IND000000ACB  IND160002AAC                         834.0   \n",
       "\n",
       "                                                          od_time_diff  \n",
       "trip_uuid               source_center destination_center                \n",
       "trip-153671041653548748 IND209304AAA  IND000000ACB                1260  \n",
       "                        IND462022AAA  IND209304AAA                 999  \n",
       "trip-153671042288605164 IND561203AAB  IND562101AAA                  58  \n",
       "                        IND572101AAA  IND561203AAB                 122  \n",
       "trip-153671043369099517 IND000000ACB  IND160002AAC                 834  "
      ]
     },
     "execution_count": 25,
     "metadata": {},
     "output_type": "execute_result"
    }
   ],
   "source": [
    "df_trip_source_destination_level.head()"
   ]
  },
  {
   "cell_type": "markdown",
   "metadata": {},
   "source": [
    "---"
   ]
  },
  {
   "cell_type": "markdown",
   "metadata": {},
   "source": [
    "### Finding busiest corridor"
   ]
  },
  {
   "cell_type": "code",
   "execution_count": 80,
   "metadata": {},
   "outputs": [
    {
     "data": {
      "text/plain": [
       "mumbai to bhiwandi        3.3\n",
       "bengaluru to bangalore    3.2\n",
       "mumbai to mumbai          2.4\n",
       "bengaluru to bengaluru    2.2\n",
       "gurgaon to delhi          1.8\n",
       "Name: corridor, dtype: float64"
      ]
     },
     "execution_count": 80,
     "metadata": {},
     "output_type": "execute_result"
    }
   ],
   "source": [
    "corridor_data = list(zip(df_trip_source_destination_level['source_city'].values,df_trip_source_destination_level['destination_city'].values))\n",
    "# counting a to b and b to a as the same \n",
    "corridor_data = [i[0]+' to '+i[1] if i[0] > i[1] else i[1]+' to '+i[0] for i in corridor_data]\n",
    "corridor_data = pd.DataFrame(corridor_data, columns=['corridor'])\n",
    "(round(corridor_data['corridor'].value_counts(1) * 100,1)).head()"
   ]
  },
  {
   "cell_type": "markdown",
   "metadata": {},
   "source": [
    "- Mumbai to Bhiwandi is the busiest corridor followed by city-within trips in bengaluru"
   ]
  },
  {
   "cell_type": "markdown",
   "metadata": {},
   "source": [
    "---"
   ]
  },
  {
   "cell_type": "code",
   "execution_count": 94,
   "metadata": {},
   "outputs": [
    {
     "data": {
      "image/png": "[encoded data removed]",
      "text/plain": [
       "<Figure size 1440x720 with 4 Axes>"
      ]
     },
     "metadata": {
      "needs_background": "light"
     },
     "output_type": "display_data"
    }
   ],
   "source": [
    "plt.rcParams['figure.figsize'] = 20,10\n",
    "for e,c in enumerate(['source_city','source_state','destination_city','destination_state']):\n",
    "    ax = plt.subplot(2,2,e+1)\n",
    "    tmp = (df_trip_source_destination_level[c].value_counts(1) * 100).head()\n",
    "    sns.barplot(x=tmp.index, y=tmp.values, ax=ax, palette='Set2')\n",
    "    ax.set_xlabel(c)\n",
    "    ax.set_ylabel(\"Percentage %\")"
   ]
  },
  {
   "cell_type": "markdown",
   "metadata": {},
   "source": [
    "- The most busiest source cities are Bengaluru, Gurgaon (~4.5%)\n",
    "- The most busiest source states are Maharashtra, Karnataka (~13%)\n",
    "- The most busiest destination cities are Mumbai, Bengaluru (~4.5%)\n",
    "- The most busiest destination states are Karnataka, Maharashtra (~13%)"
   ]
  },
  {
   "cell_type": "code",
   "execution_count": 95,
   "metadata": {},
   "outputs": [],
   "source": [
    "df_trip_level = df_trip_source_destination_level.groupby('trip_uuid').agg(\n",
    "                {'route_type':'first',\n",
    "                'actual_time':'sum',\n",
    "                'osrm_time':'sum',\n",
    "                'segment_actual_time':'sum',\n",
    "                'segment_osrm_time':'sum',\n",
    "                'actual_distance_to_destination':'sum',\n",
    "                'osrm_distance':'sum',\n",
    "                'segment_osrm_distance':'sum',\n",
    "                'start_scan_to_end_scan':'sum',\n",
    "                'od_time_diff':'sum'})\n",
    "\n",
    "df_trip_level = df_trip_level.reset_index()"
   ]
  },
  {
   "cell_type": "code",
   "execution_count": 96,
   "metadata": {},
   "outputs": [
    {
     "data": {
      "text/plain": [
       "(14787, 11)"
      ]
     },
     "execution_count": 96,
     "metadata": {},
     "output_type": "execute_result"
    }
   ],
   "source": [
    "df_trip_level.shape"
   ]
  },
  {
   "cell_type": "code",
   "execution_count": 97,
   "metadata": {},
   "outputs": [
    {
     "data": {
      "text/html": [
       "<div>\n",
       "<style scoped>\n",
       "    .dataframe tbody tr th:only-of-type {\n",
       "        vertical-align: middle;\n",
       "    }\n",
       "\n",
       "    .dataframe tbody tr th {\n",
       "        vertical-align: top;\n",
       "    }\n",
       "\n",
       "    .dataframe thead th {\n",
       "        text-align: right;\n",
       "    }\n",
       "</style>\n",
       "<table border=\"1\" class=\"dataframe\">\n",
       "  <thead>\n",
       "    <tr style=\"text-align: right;\">\n",
       "      <th></th>\n",
       "      <th>trip_uuid</th>\n",
       "      <th>route_type</th>\n",
       "      <th>actual_time</th>\n",
       "      <th>osrm_time</th>\n",
       "      <th>segment_actual_time</th>\n",
       "      <th>segment_osrm_time</th>\n",
       "      <th>actual_distance_to_destination</th>\n",
       "      <th>osrm_distance</th>\n",
       "      <th>segment_osrm_distance</th>\n",
       "      <th>start_scan_to_end_scan</th>\n",
       "      <th>od_time_diff</th>\n",
       "    </tr>\n",
       "  </thead>\n",
       "  <tbody>\n",
       "    <tr>\n",
       "      <th>0</th>\n",
       "      <td>trip-153671041653548748</td>\n",
       "      <td>FTL</td>\n",
       "      <td>1562.0</td>\n",
       "      <td>743.0</td>\n",
       "      <td>1548.0</td>\n",
       "      <td>1008.0</td>\n",
       "      <td>824.732854</td>\n",
       "      <td>991.3523</td>\n",
       "      <td>1320.4733</td>\n",
       "      <td>2259.0</td>\n",
       "      <td>2259</td>\n",
       "    </tr>\n",
       "    <tr>\n",
       "      <th>1</th>\n",
       "      <td>trip-153671042288605164</td>\n",
       "      <td>Carting</td>\n",
       "      <td>143.0</td>\n",
       "      <td>68.0</td>\n",
       "      <td>141.0</td>\n",
       "      <td>65.0</td>\n",
       "      <td>73.186911</td>\n",
       "      <td>85.1110</td>\n",
       "      <td>84.1894</td>\n",
       "      <td>180.0</td>\n",
       "      <td>180</td>\n",
       "    </tr>\n",
       "    <tr>\n",
       "      <th>2</th>\n",
       "      <td>trip-153671043369099517</td>\n",
       "      <td>FTL</td>\n",
       "      <td>3347.0</td>\n",
       "      <td>1741.0</td>\n",
       "      <td>3308.0</td>\n",
       "      <td>1941.0</td>\n",
       "      <td>1932.273969</td>\n",
       "      <td>2372.0852</td>\n",
       "      <td>2545.2678</td>\n",
       "      <td>3933.0</td>\n",
       "      <td>3933</td>\n",
       "    </tr>\n",
       "    <tr>\n",
       "      <th>3</th>\n",
       "      <td>trip-153671046011330457</td>\n",
       "      <td>Carting</td>\n",
       "      <td>59.0</td>\n",
       "      <td>15.0</td>\n",
       "      <td>59.0</td>\n",
       "      <td>16.0</td>\n",
       "      <td>17.175274</td>\n",
       "      <td>19.6800</td>\n",
       "      <td>19.8766</td>\n",
       "      <td>100.0</td>\n",
       "      <td>100</td>\n",
       "    </tr>\n",
       "    <tr>\n",
       "      <th>4</th>\n",
       "      <td>trip-153671052974046625</td>\n",
       "      <td>FTL</td>\n",
       "      <td>341.0</td>\n",
       "      <td>117.0</td>\n",
       "      <td>340.0</td>\n",
       "      <td>115.0</td>\n",
       "      <td>127.448500</td>\n",
       "      <td>146.7918</td>\n",
       "      <td>146.7919</td>\n",
       "      <td>717.0</td>\n",
       "      <td>717</td>\n",
       "    </tr>\n",
       "  </tbody>\n",
       "</table>\n",
       "</div>"
      ],
      "text/plain": [
       "                 trip_uuid route_type  actual_time  osrm_time  \\\n",
       "0  trip-153671041653548748        FTL       1562.0      743.0   \n",
       "1  trip-153671042288605164    Carting        143.0       68.0   \n",
       "2  trip-153671043369099517        FTL       3347.0     1741.0   \n",
       "3  trip-153671046011330457    Carting         59.0       15.0   \n",
       "4  trip-153671052974046625        FTL        341.0      117.0   \n",
       "\n",
       "   segment_actual_time  segment_osrm_time  actual_distance_to_destination  \\\n",
       "0               1548.0             1008.0                      824.732854   \n",
       "1                141.0               65.0                       73.186911   \n",
       "2               3308.0             1941.0                     1932.273969   \n",
       "3                 59.0               16.0                       17.175274   \n",
       "4                340.0              115.0                      127.448500   \n",
       "\n",
       "   osrm_distance  segment_osrm_distance  start_scan_to_end_scan  od_time_diff  \n",
       "0       991.3523              1320.4733                  2259.0          2259  \n",
       "1        85.1110                84.1894                   180.0           180  \n",
       "2      2372.0852              2545.2678                  3933.0          3933  \n",
       "3        19.6800                19.8766                   100.0           100  \n",
       "4       146.7918               146.7919                   717.0           717  "
      ]
     },
     "execution_count": 97,
     "metadata": {},
     "output_type": "execute_result"
    }
   ],
   "source": [
    "df_trip_level.head()"
   ]
  },
  {
   "cell_type": "markdown",
   "metadata": {},
   "source": [
    "## Comparing Distributions :  Hypothesis Testing / Visually"
   ]
  },
  {
   "cell_type": "code",
   "execution_count": 98,
   "metadata": {},
   "outputs": [],
   "source": [
    "def compare_distributions(a, b):\n",
    "    #Doing statistical Tests\n",
    "    levene_pvalue = levene(a, b)[1]  #Running levene test to check equal variance assumption\n",
    "    if levene_pvalue>0.05:\n",
    "        #Equal Variance Assumption holds\n",
    "        test_name = 't-test'\n",
    "        ttest_ind_pvalue = ttest_ind(a, b, equal_var=True)[1]\n",
    "    else:\n",
    "        #Equal Variance Assumption does not hold\n",
    "        test_name = 'Welchs t-test'\n",
    "        ttest_ind_pvalue = ttest_ind(a, b, equal_var=False)[1]\n",
    "        \n",
    "    print(f'Levene Test p-value : {round(levene_pvalue*100, 2)} %')\n",
    "    print(f'{test_name} p-value : {round(ttest_ind_pvalue*100, 2)} %')\n",
    "    if ttest_ind_pvalue>0.05:\n",
    "        print(f'{test_name} giving HIGH p-value means {a.name} and {b.name} ARE NOT significantly different')\n",
    "    else:\n",
    "        print(f'{test_name} giving LOW p-value means {a.name} and {b.name} ARE significantly different')\n",
    "    \n",
    "    #Doing visual analysis\n",
    "    fig,ax = plt.subplots(1,1,figsize=(14,5))\n",
    "    sns.histplot(x=a,color=COLORS[0], ax=ax, label=a.name, alpha=0.5)\n",
    "    sns.histplot(x=b, color=COLORS[1], ax=ax, label=b.name, alpha=0.5)\n",
    "    ax.legend()\n",
    "    ax.set_xlabel(None)"
   ]
  },
  {
   "cell_type": "markdown",
   "metadata": {},
   "source": [
    "### 1. start_scan_to_end_scan v od_time_diff"
   ]
  },
  {
   "cell_type": "code",
   "execution_count": 99,
   "metadata": {},
   "outputs": [
    {
     "name": "stdout",
     "output_type": "stream",
     "text": [
      "Levene Test p-value : 100.0 %\n",
      "t-test p-value : 100.0 %\n",
      "t-test giving HIGH p-value means start_scan_to_end_scan and od_time_diff ARE NOT significantly different\n"
     ]
    },
    {
     "data": {
      "image/png": "[encoded data removed]",
      "text/plain": [
       "<Figure size 1008x360 with 1 Axes>"
      ]
     },
     "metadata": {
      "needs_background": "light"
     },
     "output_type": "display_data"
    }
   ],
   "source": [
    "compare_distributions(df_trip_level['start_scan_to_end_scan'], df_trip_level['od_time_diff'])"
   ]
  },
  {
   "cell_type": "markdown",
   "metadata": {},
   "source": [
    "### 2. actual_time v osrm_time"
   ]
  },
  {
   "cell_type": "code",
   "execution_count": 100,
   "metadata": {},
   "outputs": [
    {
     "name": "stdout",
     "output_type": "stream",
     "text": [
      "Levene Test p-value : 0.0 %\n",
      "Welchs t-test p-value : 0.0 %\n",
      "Welchs t-test giving LOW p-value means actual_time and osrm_time ARE significantly different\n"
     ]
    },
    {
     "data": {
      "image/png": "[encoded data removed]",
      "text/plain": [
       "<Figure size 1008x360 with 1 Axes>"
      ]
     },
     "metadata": {
      "needs_background": "light"
     },
     "output_type": "display_data"
    }
   ],
   "source": [
    "compare_distributions(df_trip_level['actual_time'], df_trip_level['osrm_time'])"
   ]
  },
  {
   "cell_type": "markdown",
   "metadata": {},
   "source": [
    "### 3. actual_time v segment_actual_time"
   ]
  },
  {
   "cell_type": "code",
   "execution_count": 101,
   "metadata": {},
   "outputs": [
    {
     "name": "stdout",
     "output_type": "stream",
     "text": [
      "Levene Test p-value : 69.63 %\n",
      "t-test p-value : 61.74 %\n",
      "t-test giving HIGH p-value means actual_time and segment_actual_time ARE NOT significantly different\n"
     ]
    },
    {
     "data": {
      "image/png": "[encoded data removed]",
      "text/plain": [
       "<Figure size 1008x360 with 1 Axes>"
      ]
     },
     "metadata": {
      "needs_background": "light"
     },
     "output_type": "display_data"
    }
   ],
   "source": [
    "compare_distributions(df_trip_level['actual_time'], df_trip_level['segment_actual_time'])"
   ]
  },
  {
   "cell_type": "markdown",
   "metadata": {},
   "source": [
    "### 4. osrm_distance v segment_osrm_distance"
   ]
  },
  {
   "cell_type": "code",
   "execution_count": 102,
   "metadata": {},
   "outputs": [
    {
     "name": "stdout",
     "output_type": "stream",
     "text": [
      "Levene Test p-value : 0.03 %\n",
      "Welchs t-test p-value : 0.01 %\n",
      "Welchs t-test giving LOW p-value means osrm_distance and segment_osrm_distance ARE significantly different\n"
     ]
    },
    {
     "data": {
      "image/png": "[encoded data removed]",
      "text/plain": [
       "<Figure size 1008x360 with 1 Axes>"
      ]
     },
     "metadata": {
      "needs_background": "light"
     },
     "output_type": "display_data"
    }
   ],
   "source": [
    "compare_distributions(df_trip_level['osrm_distance'], df_trip_level['segment_osrm_distance'])"
   ]
  },
  {
   "cell_type": "markdown",
   "metadata": {},
   "source": [
    "### 5. osrm_time v segment_osrm_time"
   ]
  },
  {
   "cell_type": "code",
   "execution_count": 103,
   "metadata": {},
   "outputs": [
    {
     "name": "stdout",
     "output_type": "stream",
     "text": [
      "Levene Test p-value : 0.0 %\n",
      "Welchs t-test p-value : 0.0 %\n",
      "Welchs t-test giving LOW p-value means osrm_time and segment_osrm_time ARE significantly different\n"
     ]
    },
    {
     "data": {
      "image/png": "[encoded data removed]",
      "text/plain": [
       "<Figure size 1008x360 with 1 Axes>"
      ]
     },
     "metadata": {
      "needs_background": "light"
     },
     "output_type": "display_data"
    }
   ],
   "source": [
    "compare_distributions(df_trip_level['osrm_time'], df_trip_level['segment_osrm_time'])"
   ]
  },
  {
   "cell_type": "markdown",
   "metadata": {},
   "source": [
    "# Outlier Treatment"
   ]
  },
  {
   "cell_type": "code",
   "execution_count": 104,
   "metadata": {},
   "outputs": [
    {
     "data": {
      "image/png": "[encoded data removed]",
      "text/plain": [
       "<Figure size 1440x1440 with 9 Axes>"
      ]
     },
     "metadata": {
      "needs_background": "light"
     },
     "output_type": "display_data"
    }
   ],
   "source": [
    "plt.rcParams['figure.figsize'] = 20,20\n",
    "plt.rcParams['figure.autolayout'] = True\n",
    "for e, c in enumerate(df_trip_level.select_dtypes(include=['int','float']).columns):\n",
    "    ax = plt.subplot(3,3,e+1)\n",
    "    sns.boxplot(data = df_trip_level[c], ax=ax)\n",
    "    ax.set_xlabel(c)"
   ]
  },
  {
   "cell_type": "markdown",
   "metadata": {},
   "source": [
    "- All the numeric features have a lot of outliers."
   ]
  },
  {
   "cell_type": "code",
   "execution_count": 105,
   "metadata": {},
   "outputs": [],
   "source": [
    "df_trip_level_no_outliers = df_trip_level.copy(deep=True)"
   ]
  },
  {
   "cell_type": "code",
   "execution_count": 106,
   "metadata": {},
   "outputs": [
    {
     "data": {
      "text/plain": [
       "(14787, 11)"
      ]
     },
     "execution_count": 106,
     "metadata": {},
     "output_type": "execute_result"
    }
   ],
   "source": [
    "df_trip_level_no_outliers.shape"
   ]
  },
  {
   "cell_type": "code",
   "execution_count": 107,
   "metadata": {},
   "outputs": [],
   "source": [
    "def remove_outliers(df_):\n",
    "    for c in df_.select_dtypes(include=['int','float']).columns:\n",
    "        Q1 =  df_[c].quantile(0.25)\n",
    "        Q3 =  df_[c].quantile(0.75)        \n",
    "        IQR = Q3 - Q1\n",
    "        lower_whisker = Q1 - 1.5*IQR\n",
    "        upper_whisker = Q3 + 1.5*IQR\n",
    "        df_ = df_[(df_[c]>=lower_whisker) & (df_[c]<=upper_whisker)]\n",
    "    return df_"
   ]
  },
  {
   "cell_type": "code",
   "execution_count": 108,
   "metadata": {},
   "outputs": [],
   "source": [
    "df_trip_level_no_outliers = remove_outliers(df_trip_level_no_outliers).reset_index(drop=True)"
   ]
  },
  {
   "cell_type": "code",
   "execution_count": 109,
   "metadata": {},
   "outputs": [
    {
     "data": {
      "text/plain": [
       "(9163, 11)"
      ]
     },
     "execution_count": 109,
     "metadata": {},
     "output_type": "execute_result"
    }
   ],
   "source": [
    "df_trip_level_no_outliers.shape"
   ]
  },
  {
   "cell_type": "markdown",
   "metadata": {},
   "source": [
    "----"
   ]
  },
  {
   "cell_type": "markdown",
   "metadata": {},
   "source": [
    "# Encoding Categorical Features"
   ]
  },
  {
   "cell_type": "code",
   "execution_count": 110,
   "metadata": {},
   "outputs": [],
   "source": [
    "ohe = OneHotEncoder(sparse=False)"
   ]
  },
  {
   "cell_type": "code",
   "execution_count": 111,
   "metadata": {},
   "outputs": [
    {
     "name": "stderr",
     "output_type": "stream",
     "text": [
      "C:\\Users\\rauna\\Anaconda3\\envs\\scaler\\lib\\site-packages\\sklearn\\utils\\deprecation.py:87: FutureWarning: Function get_feature_names is deprecated; get_feature_names is deprecated in 1.0 and will be removed in 1.2. Please use get_feature_names_out instead.\n",
      "  warnings.warn(msg, category=FutureWarning)\n"
     ]
    }
   ],
   "source": [
    "ohe_data = pd.DataFrame(ohe.fit_transform(df_trip_level_no_outliers['route_type'].values.reshape(-1,1)), columns=ohe.get_feature_names())"
   ]
  },
  {
   "cell_type": "code",
   "execution_count": 112,
   "metadata": {},
   "outputs": [
    {
     "data": {
      "text/html": [
       "<div>\n",
       "<style scoped>\n",
       "    .dataframe tbody tr th:only-of-type {\n",
       "        vertical-align: middle;\n",
       "    }\n",
       "\n",
       "    .dataframe tbody tr th {\n",
       "        vertical-align: top;\n",
       "    }\n",
       "\n",
       "    .dataframe thead th {\n",
       "        text-align: right;\n",
       "    }\n",
       "</style>\n",
       "<table border=\"1\" class=\"dataframe\">\n",
       "  <thead>\n",
       "    <tr style=\"text-align: right;\">\n",
       "      <th></th>\n",
       "      <th>x0_Carting</th>\n",
       "      <th>x0_FTL</th>\n",
       "    </tr>\n",
       "  </thead>\n",
       "  <tbody>\n",
       "    <tr>\n",
       "      <th>0</th>\n",
       "      <td>1.0</td>\n",
       "      <td>0.0</td>\n",
       "    </tr>\n",
       "    <tr>\n",
       "      <th>1</th>\n",
       "      <td>1.0</td>\n",
       "      <td>0.0</td>\n",
       "    </tr>\n",
       "    <tr>\n",
       "      <th>2</th>\n",
       "      <td>1.0</td>\n",
       "      <td>0.0</td>\n",
       "    </tr>\n",
       "    <tr>\n",
       "      <th>3</th>\n",
       "      <td>1.0</td>\n",
       "      <td>0.0</td>\n",
       "    </tr>\n",
       "    <tr>\n",
       "      <th>4</th>\n",
       "      <td>1.0</td>\n",
       "      <td>0.0</td>\n",
       "    </tr>\n",
       "  </tbody>\n",
       "</table>\n",
       "</div>"
      ],
      "text/plain": [
       "   x0_Carting  x0_FTL\n",
       "0         1.0     0.0\n",
       "1         1.0     0.0\n",
       "2         1.0     0.0\n",
       "3         1.0     0.0\n",
       "4         1.0     0.0"
      ]
     },
     "execution_count": 112,
     "metadata": {},
     "output_type": "execute_result"
    }
   ],
   "source": [
    "ohe_data.head()"
   ]
  },
  {
   "cell_type": "code",
   "execution_count": 113,
   "metadata": {},
   "outputs": [],
   "source": [
    "df_trip_level_no_outliers = pd.concat([df_trip_level_no_outliers, ohe_data],axis=1)"
   ]
  },
  {
   "cell_type": "code",
   "execution_count": 114,
   "metadata": {},
   "outputs": [
    {
     "data": {
      "text/plain": [
       "1.0    7780\n",
       "0.0    1383\n",
       "Name: x0_Carting, dtype: int64"
      ]
     },
     "execution_count": 114,
     "metadata": {},
     "output_type": "execute_result"
    }
   ],
   "source": [
    "df_trip_level_no_outliers['x0_Carting'].value_counts()"
   ]
  },
  {
   "cell_type": "markdown",
   "metadata": {},
   "source": [
    "----"
   ]
  },
  {
   "cell_type": "markdown",
   "metadata": {},
   "source": [
    "# Scaling Numerical Features"
   ]
  },
  {
   "cell_type": "code",
   "execution_count": 115,
   "metadata": {},
   "outputs": [],
   "source": [
    "mms = MinMaxScaler()"
   ]
  },
  {
   "cell_type": "code",
   "execution_count": 116,
   "metadata": {},
   "outputs": [],
   "source": [
    "numerical_columns = ['actual_time', 'osrm_time', 'segment_actual_time', \n",
    "                     'segment_osrm_time','actual_distance_to_destination', 'osrm_distance',\n",
    "                     'segment_osrm_distance', 'start_scan_to_end_scan', 'od_time_diff']"
   ]
  },
  {
   "cell_type": "code",
   "execution_count": 117,
   "metadata": {},
   "outputs": [],
   "source": [
    "df_trip_level_no_outliers[numerical_columns] = mms.fit_transform(df_trip_level_no_outliers[numerical_columns])"
   ]
  },
  {
   "cell_type": "code",
   "execution_count": 118,
   "metadata": {},
   "outputs": [
    {
     "data": {
      "text/html": [
       "<div>\n",
       "<style scoped>\n",
       "    .dataframe tbody tr th:only-of-type {\n",
       "        vertical-align: middle;\n",
       "    }\n",
       "\n",
       "    .dataframe tbody tr th {\n",
       "        vertical-align: top;\n",
       "    }\n",
       "\n",
       "    .dataframe thead th {\n",
       "        text-align: right;\n",
       "    }\n",
       "</style>\n",
       "<table border=\"1\" class=\"dataframe\">\n",
       "  <thead>\n",
       "    <tr style=\"text-align: right;\">\n",
       "      <th></th>\n",
       "      <th>trip_uuid</th>\n",
       "      <th>route_type</th>\n",
       "      <th>actual_time</th>\n",
       "      <th>osrm_time</th>\n",
       "      <th>segment_actual_time</th>\n",
       "      <th>segment_osrm_time</th>\n",
       "      <th>actual_distance_to_destination</th>\n",
       "      <th>osrm_distance</th>\n",
       "      <th>segment_osrm_distance</th>\n",
       "      <th>start_scan_to_end_scan</th>\n",
       "      <th>od_time_diff</th>\n",
       "      <th>x0_Carting</th>\n",
       "      <th>x0_FTL</th>\n",
       "    </tr>\n",
       "  </thead>\n",
       "  <tbody>\n",
       "    <tr>\n",
       "      <th>0</th>\n",
       "      <td>trip-153671042288605164</td>\n",
       "      <td>Carting</td>\n",
       "      <td>0.312354</td>\n",
       "      <td>0.290476</td>\n",
       "      <td>0.308411</td>\n",
       "      <td>0.277512</td>\n",
       "      <td>0.488537</td>\n",
       "      <td>0.476339</td>\n",
       "      <td>0.512384</td>\n",
       "      <td>0.342795</td>\n",
       "      <td>0.342795</td>\n",
       "      <td>1.0</td>\n",
       "      <td>0.0</td>\n",
       "    </tr>\n",
       "    <tr>\n",
       "      <th>1</th>\n",
       "      <td>trip-153671046011330457</td>\n",
       "      <td>Carting</td>\n",
       "      <td>0.116550</td>\n",
       "      <td>0.038095</td>\n",
       "      <td>0.116822</td>\n",
       "      <td>0.043062</td>\n",
       "      <td>0.062207</td>\n",
       "      <td>0.066448</td>\n",
       "      <td>0.073694</td>\n",
       "      <td>0.168122</td>\n",
       "      <td>0.168122</td>\n",
       "      <td>1.0</td>\n",
       "      <td>0.0</td>\n",
       "    </tr>\n",
       "    <tr>\n",
       "      <th>2</th>\n",
       "      <td>trip-153671055416136166</td>\n",
       "      <td>Carting</td>\n",
       "      <td>0.121212</td>\n",
       "      <td>0.076190</td>\n",
       "      <td>0.119159</td>\n",
       "      <td>0.076555</td>\n",
       "      <td>0.118698</td>\n",
       "      <td>0.118974</td>\n",
       "      <td>0.129547</td>\n",
       "      <td>0.362445</td>\n",
       "      <td>0.362445</td>\n",
       "      <td>1.0</td>\n",
       "      <td>0.0</td>\n",
       "    </tr>\n",
       "    <tr>\n",
       "      <th>3</th>\n",
       "      <td>trip-153671066201138152</td>\n",
       "      <td>Carting</td>\n",
       "      <td>0.034965</td>\n",
       "      <td>0.028571</td>\n",
       "      <td>0.035047</td>\n",
       "      <td>0.028708</td>\n",
       "      <td>0.000746</td>\n",
       "      <td>0.018452</td>\n",
       "      <td>0.020092</td>\n",
       "      <td>0.163755</td>\n",
       "      <td>0.163755</td>\n",
       "      <td>1.0</td>\n",
       "      <td>0.0</td>\n",
       "    </tr>\n",
       "    <tr>\n",
       "      <th>4</th>\n",
       "      <td>trip-153671066826362165</td>\n",
       "      <td>Carting</td>\n",
       "      <td>0.128205</td>\n",
       "      <td>0.128571</td>\n",
       "      <td>0.128505</td>\n",
       "      <td>0.129187</td>\n",
       "      <td>0.102159</td>\n",
       "      <td>0.124334</td>\n",
       "      <td>0.135383</td>\n",
       "      <td>0.268559</td>\n",
       "      <td>0.268559</td>\n",
       "      <td>1.0</td>\n",
       "      <td>0.0</td>\n",
       "    </tr>\n",
       "  </tbody>\n",
       "</table>\n",
       "</div>"
      ],
      "text/plain": [
       "                 trip_uuid route_type  actual_time  osrm_time  \\\n",
       "0  trip-153671042288605164    Carting     0.312354   0.290476   \n",
       "1  trip-153671046011330457    Carting     0.116550   0.038095   \n",
       "2  trip-153671055416136166    Carting     0.121212   0.076190   \n",
       "3  trip-153671066201138152    Carting     0.034965   0.028571   \n",
       "4  trip-153671066826362165    Carting     0.128205   0.128571   \n",
       "\n",
       "   segment_actual_time  segment_osrm_time  actual_distance_to_destination  \\\n",
       "0             0.308411           0.277512                        0.488537   \n",
       "1             0.116822           0.043062                        0.062207   \n",
       "2             0.119159           0.076555                        0.118698   \n",
       "3             0.035047           0.028708                        0.000746   \n",
       "4             0.128505           0.129187                        0.102159   \n",
       "\n",
       "   osrm_distance  segment_osrm_distance  start_scan_to_end_scan  od_time_diff  \\\n",
       "0       0.476339               0.512384                0.342795      0.342795   \n",
       "1       0.066448               0.073694                0.168122      0.168122   \n",
       "2       0.118974               0.129547                0.362445      0.362445   \n",
       "3       0.018452               0.020092                0.163755      0.163755   \n",
       "4       0.124334               0.135383                0.268559      0.268559   \n",
       "\n",
       "   x0_Carting  x0_FTL  \n",
       "0         1.0     0.0  \n",
       "1         1.0     0.0  \n",
       "2         1.0     0.0  \n",
       "3         1.0     0.0  \n",
       "4         1.0     0.0  "
      ]
     },
     "execution_count": 118,
     "metadata": {},
     "output_type": "execute_result"
    }
   ],
   "source": [
    "df_trip_level_no_outliers.head()"
   ]
  },
  {
   "cell_type": "markdown",
   "metadata": {},
   "source": [
    "----"
   ]
  }
 ],
 "metadata": {
  "kernelspec": {
   "display_name": "scaler",
   "language": "python",
   "name": "scaler"
  },
  "language_info": {
   "codemirror_mode": {
    "name": "ipython",
    "version": 3
   },
   "file_extension": ".py",
   "mimetype": "text/x-python",
   "name": "python",
   "nbconvert_exporter": "python",
   "pygments_lexer": "ipython3",
   "version": "3.8.13"
  }
 },
 "nbformat": 4,
 "nbformat_minor": 2
}
